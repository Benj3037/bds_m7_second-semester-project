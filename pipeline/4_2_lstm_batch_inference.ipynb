{
 "cells": [
  {
   "cell_type": "markdown",
   "metadata": {},
   "source": [
    "# <span style=\"font-width:bold; font-size: 3rem; color:#2656a3;\">**Msc. BDS - M7 Second Semester Project** </span> <span style=\"font-width:bold; font-size: 3rem; color:#333;\">- Part 04: Batch Inference</span>"
   ]
  },
  {
   "cell_type": "markdown",
   "metadata": {},
   "source": [
    "## <span style='color:#2656a3'> 🗒️ This notebook is divided into the following sections:\n",
    "\n",
    "1. Load new batch data.\n",
    "2. Predict using model from Model Registry."
   ]
  },
  {
   "cell_type": "markdown",
   "metadata": {},
   "source": [
    "## <span style='color:#2656a3'> ⚙️ Import of libraries and packages\n",
    "\n",
    "We start by accessing the folder we have created that holds the functions (incl. live API calls and data preprocessing) we need for electricity prices, weather measures, and calendar. Then, we proceed to import some of the necessary libraries needed for this notebook and warnings to avoid unnecessary distractions and keep output clean."
   ]
  },
  {
   "cell_type": "code",
   "execution_count": 1,
   "metadata": {},
   "outputs": [
    {
     "name": "stderr",
     "output_type": "stream",
     "text": [
      "c:\\Users\\Benj3\\anaconda3\\envs\\energy2\\Lib\\site-packages\\IPython\\core\\magics\\osm.py:417: UserWarning: This is now an optional IPython functionality, setting dhist requires you to install the `pickleshare` library.\n",
      "  self.shell.db['dhist'] = compress_dhist(dhist)[-100:]\n"
     ]
    },
    {
     "name": "stdout",
     "output_type": "stream",
     "text": [
      "c:\\Users\\Benj3\\OneDrive\\Dokumenter\\VSCode\\bds_m7_second-semester-project\\bds_m7_second-semester-project\n",
      "[WinError 2] Den angivne fil blev ikke fundet: 'notebooks'\n",
      "c:\\Users\\Benj3\\OneDrive\\Dokumenter\\VSCode\\bds_m7_second-semester-project\\bds_m7_second-semester-project\n"
     ]
    },
    {
     "name": "stderr",
     "output_type": "stream",
     "text": [
      "c:\\Users\\Benj3\\anaconda3\\envs\\energy2\\Lib\\site-packages\\IPython\\core\\magics\\osm.py:393: UserWarning: This is now an optional IPython functionality, using bookmarks requires you to install the `pickleshare` library.\n",
      "  bkms = self.shell.db.get('bookmarks', {})\n"
     ]
    }
   ],
   "source": [
    "# First we go one back in our directory to access the folder with our functions\n",
    "%cd ..\n",
    "\n",
    "# Now we import the functions from the features folder\n",
    "# This is the functions we have created to generate features for weather measures and calandar\n",
    "from features import weather_measures, calendar \n",
    "\n",
    "# We go back into the notebooks folder\n",
    "%cd notebooks"
   ]
  },
  {
   "cell_type": "code",
   "execution_count": 2,
   "metadata": {},
   "outputs": [],
   "source": [
    "# Importing pandas for data handling\n",
    "import pandas as pd\n",
    "import numpy as np\n",
    "import tensorflow as tf\n",
    "\n",
    "# Ignore warnings\n",
    "import warnings \n",
    "warnings.filterwarnings('ignore')"
   ]
  },
  {
   "cell_type": "markdown",
   "metadata": {},
   "source": [
    "## <span style=\"color:#2656a3;\"> 📡 Connecting to Hopsworks Feature Store\n",
    "We connect to the Hopsworks Feature Store so we can retrieve the Feature View, access the Model Registry, and retrieve the saved model from training."
   ]
  },
  {
   "cell_type": "code",
   "execution_count": 3,
   "metadata": {},
   "outputs": [
    {
     "name": "stdout",
     "output_type": "stream",
     "text": [
      "Connected. Call `.close()` to terminate connection gracefully.\n",
      "\n",
      "Logged in to project, explore it here https://c.app.hopsworks.ai:443/p/556180\n",
      "Connected. Call `.close()` to terminate connection gracefully.\n"
     ]
    }
   ],
   "source": [
    "# Importing the hopsworks module\n",
    "import hopsworks\n",
    "\n",
    "# Logging into the Hopsworks project\n",
    "project = hopsworks.login()\n",
    "\n",
    "# Getting the feature store from the project\n",
    "fs = project.get_feature_store() "
   ]
  },
  {
   "cell_type": "markdown",
   "metadata": {},
   "source": [
    "### <span style='color:#2656a3'> ⚙️ Feature View Retrieval"
   ]
  },
  {
   "cell_type": "code",
   "execution_count": 4,
   "metadata": {},
   "outputs": [],
   "source": [
    "# Retrieve the 'dk1_electricity_training_feature_view' feature view\n",
    "feature_view_training = fs.get_feature_view(\n",
    "    name='xgb_dk1_electricity_training_feature_view',\n",
    "    version=1,\n",
    ")"
   ]
  },
  {
   "cell_type": "code",
   "execution_count": 5,
   "metadata": {},
   "outputs": [
    {
     "name": "stdout",
     "output_type": "stream",
     "text": [
      "Finished: Reading data from Hopsworks, using Hopsworks Feature Query Service (3.34s) \n",
      "2024-05-22 20:46:21,715 WARNING: VersionWarning: Incremented version to `8`.\n",
      "\n"
     ]
    }
   ],
   "source": [
    "# Retrieve training data from the feature view 'feature_view_training', assigning the features to 'X'.\n",
    "df, _ = feature_view_training.training_data(\n",
    "    description = 'LSTM Electricity Prices Training Dataset',\n",
    ")"
   ]
  },
  {
   "cell_type": "code",
   "execution_count": 6,
   "metadata": {},
   "outputs": [
    {
     "name": "stdout",
     "output_type": "stream",
     "text": [
      "2024-05-22 20:46:21,727 WARNING: DeprecationWarning: invalid escape sequence '\\l'\n",
      "\n",
      "2024-05-22 20:46:21,729 WARNING: DeprecationWarning: invalid escape sequence '\\l'\n",
      "\n",
      "['assets', 'fingerprint.pb', 'saved_model.pb', 'variables']\n"
     ]
    }
   ],
   "source": [
    "import os\n",
    "\n",
    "model_dir = \"pipeline\\lstm_electricity_price_model\"\n",
    "\n",
    "# List the contents of the model directory\n",
    "print(os.listdir(model_dir))"
   ]
  },
  {
   "cell_type": "code",
   "execution_count": 7,
   "metadata": {},
   "outputs": [
    {
     "name": "stdout",
     "output_type": "stream",
     "text": [
      "<tensorflow.python.saved_model.load.Loader._recreate_base_user_object.<locals>._UserObject object at 0x000001EFFD53A950>\n"
     ]
    }
   ],
   "source": [
    "# Load the model\n",
    "loaded_model = tf.saved_model.load(model_dir)\n",
    "\n",
    "# Print the loaded model to verify\n",
    "print(loaded_model)\n",
    "\n",
    "serving_function = loaded_model.signatures[\"serving_default\"]\n"
   ]
  },
  {
   "cell_type": "markdown",
   "metadata": {},
   "source": [
    "### <span style='color:#2656a3'> 📮 Retrieving model from Model Registry"
   ]
  },
  {
   "cell_type": "code",
   "execution_count": 36,
   "metadata": {},
   "outputs": [
    {
     "name": "stdout",
     "output_type": "stream",
     "text": [
      "Connected. Call `.close()` to terminate connection gracefully.\n"
     ]
    }
   ],
   "source": [
    "# Retrieve the model registry\n",
    "mr = project.get_model_registry()"
   ]
  },
  {
   "cell_type": "code",
   "execution_count": 37,
   "metadata": {},
   "outputs": [
    {
     "ename": "RestAPIError",
     "evalue": "Metadata operation error: (url: https://c.app.hopsworks.ai/hopsworks-api/api/project/556180/modelregistries/556180/models/lstm_electricity_price_model_1). Server response: \nHTTP code: 404, HTTP reason: Not Found, body: b'{\"errorCode\":360000,\"errorMsg\":\"No model found for provided name and version.\"}', error code: 360000, error msg: No model found for provided name and version., user msg: ",
     "output_type": "error",
     "traceback": [
      "\u001b[1;31m---------------------------------------------------------------------------\u001b[0m",
      "\u001b[1;31mRestAPIError\u001b[0m                              Traceback (most recent call last)",
      "Cell \u001b[1;32mIn[37], line 2\u001b[0m\n\u001b[0;32m      1\u001b[0m \u001b[38;5;66;03m# Retrieving the TensorFlow model from the Model Registry\u001b[39;00m\n\u001b[1;32m----> 2\u001b[0m model \u001b[38;5;241m=\u001b[39m \u001b[43mmr\u001b[49m\u001b[38;5;241;43m.\u001b[39;49m\u001b[43mget_model\u001b[49m\u001b[43m(\u001b[49m\n\u001b[0;32m      3\u001b[0m \u001b[43m    \u001b[49m\u001b[43mname\u001b[49m\u001b[38;5;241;43m=\u001b[39;49m\u001b[38;5;124;43m\"\u001b[39;49m\u001b[38;5;124;43mlstm_electricity_price_model\u001b[39;49m\u001b[38;5;124;43m\"\u001b[39;49m\u001b[43m,\u001b[49m\u001b[43m \u001b[49m\n\u001b[0;32m      4\u001b[0m \u001b[43m    \u001b[49m\u001b[43mversion\u001b[49m\u001b[38;5;241;43m=\u001b[39;49m\u001b[38;5;241;43m1\u001b[39;49m\u001b[43m,\u001b[49m\n\u001b[0;32m      5\u001b[0m \u001b[43m)\u001b[49m\n\u001b[0;32m      7\u001b[0m \u001b[38;5;66;03m# Downloading the model to a local directory\u001b[39;00m\n\u001b[0;32m      8\u001b[0m model_dir \u001b[38;5;241m=\u001b[39m model\u001b[38;5;241m.\u001b[39mdownload()\n",
      "File \u001b[1;32mc:\\Users\\Benj3\\anaconda3\\envs\\energy2\\Lib\\site-packages\\hsml\\model_registry.py:86\u001b[0m, in \u001b[0;36mModelRegistry.get_model\u001b[1;34m(self, name, version)\u001b[0m\n\u001b[0;32m     78\u001b[0m     warnings\u001b[38;5;241m.\u001b[39mwarn(\n\u001b[0;32m     79\u001b[0m         \u001b[38;5;124m\"\u001b[39m\u001b[38;5;124mNo version provided for getting model `\u001b[39m\u001b[38;5;132;01m{}\u001b[39;00m\u001b[38;5;124m`, defaulting to `\u001b[39m\u001b[38;5;132;01m{}\u001b[39;00m\u001b[38;5;124m`.\u001b[39m\u001b[38;5;124m\"\u001b[39m\u001b[38;5;241m.\u001b[39mformat(\n\u001b[0;32m     80\u001b[0m             name, \u001b[38;5;28mself\u001b[39m\u001b[38;5;241m.\u001b[39mDEFAULT_VERSION\n\u001b[0;32m     81\u001b[0m         ),\n\u001b[0;32m     82\u001b[0m         util\u001b[38;5;241m.\u001b[39mVersionWarning,\n\u001b[0;32m     83\u001b[0m     )\n\u001b[0;32m     84\u001b[0m     version \u001b[38;5;241m=\u001b[39m \u001b[38;5;28mself\u001b[39m\u001b[38;5;241m.\u001b[39mDEFAULT_VERSION\n\u001b[1;32m---> 86\u001b[0m \u001b[38;5;28;01mreturn\u001b[39;00m \u001b[38;5;28;43mself\u001b[39;49m\u001b[38;5;241;43m.\u001b[39;49m\u001b[43m_model_api\u001b[49m\u001b[38;5;241;43m.\u001b[39;49m\u001b[43mget\u001b[49m\u001b[43m(\u001b[49m\n\u001b[0;32m     87\u001b[0m \u001b[43m    \u001b[49m\u001b[43mname\u001b[49m\u001b[43m,\u001b[49m\n\u001b[0;32m     88\u001b[0m \u001b[43m    \u001b[49m\u001b[43mversion\u001b[49m\u001b[43m,\u001b[49m\n\u001b[0;32m     89\u001b[0m \u001b[43m    \u001b[49m\u001b[38;5;28;43mself\u001b[39;49m\u001b[38;5;241;43m.\u001b[39;49m\u001b[43mmodel_registry_id\u001b[49m\u001b[43m,\u001b[49m\n\u001b[0;32m     90\u001b[0m \u001b[43m    \u001b[49m\u001b[43mshared_registry_project_name\u001b[49m\u001b[38;5;241;43m=\u001b[39;49m\u001b[38;5;28;43mself\u001b[39;49m\u001b[38;5;241;43m.\u001b[39;49m\u001b[43mshared_registry_project_name\u001b[49m\u001b[43m,\u001b[49m\n\u001b[0;32m     91\u001b[0m \u001b[43m\u001b[49m\u001b[43m)\u001b[49m\n",
      "File \u001b[1;32mc:\\Users\\Benj3\\anaconda3\\envs\\energy2\\Lib\\site-packages\\hsml\\core\\model_api.py:75\u001b[0m, in \u001b[0;36mModelApi.get\u001b[1;34m(self, name, version, model_registry_id, shared_registry_project_name)\u001b[0m\n\u001b[0;32m     65\u001b[0m path_params \u001b[38;5;241m=\u001b[39m [\n\u001b[0;32m     66\u001b[0m     \u001b[38;5;124m\"\u001b[39m\u001b[38;5;124mproject\u001b[39m\u001b[38;5;124m\"\u001b[39m,\n\u001b[0;32m     67\u001b[0m     _client\u001b[38;5;241m.\u001b[39m_project_id,\n\u001b[1;32m   (...)\u001b[0m\n\u001b[0;32m     71\u001b[0m     name \u001b[38;5;241m+\u001b[39m \u001b[38;5;124m\"\u001b[39m\u001b[38;5;124m_\u001b[39m\u001b[38;5;124m\"\u001b[39m \u001b[38;5;241m+\u001b[39m \u001b[38;5;28mstr\u001b[39m(version),\n\u001b[0;32m     72\u001b[0m ]\n\u001b[0;32m     73\u001b[0m query_params \u001b[38;5;241m=\u001b[39m {\u001b[38;5;124m\"\u001b[39m\u001b[38;5;124mexpand\u001b[39m\u001b[38;5;124m\"\u001b[39m: \u001b[38;5;124m\"\u001b[39m\u001b[38;5;124mtrainingdatasets\u001b[39m\u001b[38;5;124m\"\u001b[39m}\n\u001b[1;32m---> 75\u001b[0m model_json \u001b[38;5;241m=\u001b[39m \u001b[43m_client\u001b[49m\u001b[38;5;241;43m.\u001b[39;49m\u001b[43m_send_request\u001b[49m\u001b[43m(\u001b[49m\u001b[38;5;124;43m\"\u001b[39;49m\u001b[38;5;124;43mGET\u001b[39;49m\u001b[38;5;124;43m\"\u001b[39;49m\u001b[43m,\u001b[49m\u001b[43m \u001b[49m\u001b[43mpath_params\u001b[49m\u001b[43m,\u001b[49m\u001b[43m \u001b[49m\u001b[43mquery_params\u001b[49m\u001b[43m)\u001b[49m\n\u001b[0;32m     76\u001b[0m model_meta \u001b[38;5;241m=\u001b[39m model\u001b[38;5;241m.\u001b[39mModel\u001b[38;5;241m.\u001b[39mfrom_response_json(model_json)\n\u001b[0;32m     78\u001b[0m model_meta\u001b[38;5;241m.\u001b[39mshared_registry_project_name \u001b[38;5;241m=\u001b[39m shared_registry_project_name\n",
      "File \u001b[1;32mc:\\Users\\Benj3\\anaconda3\\envs\\energy2\\Lib\\site-packages\\hsml\\decorators.py:35\u001b[0m, in \u001b[0;36mconnected.<locals>.if_connected\u001b[1;34m(inst, *args, **kwargs)\u001b[0m\n\u001b[0;32m     33\u001b[0m \u001b[38;5;28;01mif\u001b[39;00m \u001b[38;5;129;01mnot\u001b[39;00m inst\u001b[38;5;241m.\u001b[39m_connected:\n\u001b[0;32m     34\u001b[0m     \u001b[38;5;28;01mraise\u001b[39;00m NoHopsworksConnectionError\n\u001b[1;32m---> 35\u001b[0m \u001b[38;5;28;01mreturn\u001b[39;00m \u001b[43mfn\u001b[49m\u001b[43m(\u001b[49m\u001b[43minst\u001b[49m\u001b[43m,\u001b[49m\u001b[43m \u001b[49m\u001b[38;5;241;43m*\u001b[39;49m\u001b[43margs\u001b[49m\u001b[43m,\u001b[49m\u001b[43m \u001b[49m\u001b[38;5;241;43m*\u001b[39;49m\u001b[38;5;241;43m*\u001b[39;49m\u001b[43mkwargs\u001b[49m\u001b[43m)\u001b[49m\n",
      "File \u001b[1;32mc:\\Users\\Benj3\\anaconda3\\envs\\energy2\\Lib\\site-packages\\hsml\\client\\base.py:108\u001b[0m, in \u001b[0;36mClient._send_request\u001b[1;34m(self, method, path_params, query_params, headers, data, stream, files)\u001b[0m\n\u001b[0;32m    105\u001b[0m     response \u001b[38;5;241m=\u001b[39m \u001b[38;5;28mself\u001b[39m\u001b[38;5;241m.\u001b[39m_session\u001b[38;5;241m.\u001b[39msend(prepped, verify\u001b[38;5;241m=\u001b[39m\u001b[38;5;28mself\u001b[39m\u001b[38;5;241m.\u001b[39m_verify, stream\u001b[38;5;241m=\u001b[39mstream)\n\u001b[0;32m    107\u001b[0m \u001b[38;5;28;01mif\u001b[39;00m response\u001b[38;5;241m.\u001b[39mstatus_code \u001b[38;5;241m/\u001b[39m\u001b[38;5;241m/\u001b[39m \u001b[38;5;241m100\u001b[39m \u001b[38;5;241m!=\u001b[39m \u001b[38;5;241m2\u001b[39m:\n\u001b[1;32m--> 108\u001b[0m     \u001b[38;5;28;01mraise\u001b[39;00m exceptions\u001b[38;5;241m.\u001b[39mRestAPIError(url, response)\n\u001b[0;32m    110\u001b[0m \u001b[38;5;28;01mif\u001b[39;00m stream:\n\u001b[0;32m    111\u001b[0m     \u001b[38;5;28;01mreturn\u001b[39;00m response\n",
      "\u001b[1;31mRestAPIError\u001b[0m: Metadata operation error: (url: https://c.app.hopsworks.ai/hopsworks-api/api/project/556180/modelregistries/556180/models/lstm_electricity_price_model_1). Server response: \nHTTP code: 404, HTTP reason: Not Found, body: b'{\"errorCode\":360000,\"errorMsg\":\"No model found for provided name and version.\"}', error code: 360000, error msg: No model found for provided name and version., user msg: "
     ]
    }
   ],
   "source": [
    "# Retrieving the TensorFlow model from the Model Registry\n",
    "model = mr.get_model(\n",
    "    name=\"lstm_electricity_price_model\", \n",
    "    version=1,\n",
    ")\n",
    "\n",
    "# Downloading the model to a local directory\n",
    "model_dir = model.download()\n",
    "\n",
    "# Loading the saved TensorFlow model\n",
    "loaded_model = tf.saved_model.load(model_dir)\n",
    "\n",
    "# Accessing the serving function of the loaded model\n",
    "serving_function = loaded_model.signatures[\"serving_default\"]"
   ]
  },
  {
   "cell_type": "markdown",
   "metadata": {},
   "source": [
    "## <span style='color:#2656a3'> ✨ Load New Data\n",
    "Our objective is to predict the electricity prices for the upcoming days, therefore we load a weather forecast as batch data to make predictions."
   ]
  },
  {
   "cell_type": "code",
   "execution_count": 8,
   "metadata": {},
   "outputs": [],
   "source": [
    "# Fetching weather forecast measures for the next 5 days\n",
    "weather_forecast_df = weather_measures.forecast_weather_measures(\n",
    "    forecast_length=5\n",
    ")\n",
    "\n",
    "# Fetching danish calendar\n",
    "calendar_df = calendar.calendar_denmark()"
   ]
  },
  {
   "cell_type": "code",
   "execution_count": 9,
   "metadata": {},
   "outputs": [
    {
     "data": {
      "text/html": [
       "<div>\n",
       "<style scoped>\n",
       "    .dataframe tbody tr th:only-of-type {\n",
       "        vertical-align: middle;\n",
       "    }\n",
       "\n",
       "    .dataframe tbody tr th {\n",
       "        vertical-align: top;\n",
       "    }\n",
       "\n",
       "    .dataframe thead th {\n",
       "        text-align: right;\n",
       "    }\n",
       "</style>\n",
       "<table border=\"1\" class=\"dataframe\">\n",
       "  <thead>\n",
       "    <tr style=\"text-align: right;\">\n",
       "      <th></th>\n",
       "      <th>timestamp</th>\n",
       "      <th>datetime</th>\n",
       "      <th>date</th>\n",
       "      <th>hour</th>\n",
       "      <th>temperature_2m</th>\n",
       "      <th>relative_humidity_2m</th>\n",
       "      <th>precipitation</th>\n",
       "      <th>rain</th>\n",
       "      <th>snowfall</th>\n",
       "      <th>weather_code</th>\n",
       "      <th>cloud_cover</th>\n",
       "      <th>wind_speed_10m</th>\n",
       "      <th>wind_gusts_10m</th>\n",
       "      <th>dayofweek</th>\n",
       "      <th>day</th>\n",
       "      <th>month</th>\n",
       "      <th>year</th>\n",
       "      <th>workday</th>\n",
       "    </tr>\n",
       "  </thead>\n",
       "  <tbody>\n",
       "    <tr>\n",
       "      <th>115</th>\n",
       "      <td>1716750000000</td>\n",
       "      <td>2024-05-26 19:00:00</td>\n",
       "      <td>2024-05-26</td>\n",
       "      <td>19</td>\n",
       "      <td>17.5</td>\n",
       "      <td>87.0</td>\n",
       "      <td>0.0</td>\n",
       "      <td>0.0</td>\n",
       "      <td>0.0</td>\n",
       "      <td>2.0</td>\n",
       "      <td>89.0</td>\n",
       "      <td>11.3</td>\n",
       "      <td>27.7</td>\n",
       "      <td>6</td>\n",
       "      <td>26</td>\n",
       "      <td>5</td>\n",
       "      <td>2024</td>\n",
       "      <td>0</td>\n",
       "    </tr>\n",
       "    <tr>\n",
       "      <th>116</th>\n",
       "      <td>1716753600000</td>\n",
       "      <td>2024-05-26 20:00:00</td>\n",
       "      <td>2024-05-26</td>\n",
       "      <td>20</td>\n",
       "      <td>16.9</td>\n",
       "      <td>90.0</td>\n",
       "      <td>0.0</td>\n",
       "      <td>0.0</td>\n",
       "      <td>0.0</td>\n",
       "      <td>2.0</td>\n",
       "      <td>77.0</td>\n",
       "      <td>9.2</td>\n",
       "      <td>22.0</td>\n",
       "      <td>6</td>\n",
       "      <td>26</td>\n",
       "      <td>5</td>\n",
       "      <td>2024</td>\n",
       "      <td>0</td>\n",
       "    </tr>\n",
       "    <tr>\n",
       "      <th>117</th>\n",
       "      <td>1716757200000</td>\n",
       "      <td>2024-05-26 21:00:00</td>\n",
       "      <td>2024-05-26</td>\n",
       "      <td>21</td>\n",
       "      <td>16.4</td>\n",
       "      <td>92.0</td>\n",
       "      <td>0.0</td>\n",
       "      <td>0.0</td>\n",
       "      <td>0.0</td>\n",
       "      <td>2.0</td>\n",
       "      <td>66.0</td>\n",
       "      <td>7.6</td>\n",
       "      <td>16.6</td>\n",
       "      <td>6</td>\n",
       "      <td>26</td>\n",
       "      <td>5</td>\n",
       "      <td>2024</td>\n",
       "      <td>0</td>\n",
       "    </tr>\n",
       "    <tr>\n",
       "      <th>118</th>\n",
       "      <td>1716760800000</td>\n",
       "      <td>2024-05-26 22:00:00</td>\n",
       "      <td>2024-05-26</td>\n",
       "      <td>22</td>\n",
       "      <td>15.8</td>\n",
       "      <td>93.0</td>\n",
       "      <td>0.0</td>\n",
       "      <td>0.0</td>\n",
       "      <td>0.0</td>\n",
       "      <td>1.0</td>\n",
       "      <td>52.0</td>\n",
       "      <td>7.1</td>\n",
       "      <td>15.5</td>\n",
       "      <td>6</td>\n",
       "      <td>26</td>\n",
       "      <td>5</td>\n",
       "      <td>2024</td>\n",
       "      <td>0</td>\n",
       "    </tr>\n",
       "    <tr>\n",
       "      <th>119</th>\n",
       "      <td>1716764400000</td>\n",
       "      <td>2024-05-26 23:00:00</td>\n",
       "      <td>2024-05-26</td>\n",
       "      <td>23</td>\n",
       "      <td>15.3</td>\n",
       "      <td>94.0</td>\n",
       "      <td>0.0</td>\n",
       "      <td>0.0</td>\n",
       "      <td>0.0</td>\n",
       "      <td>1.0</td>\n",
       "      <td>37.0</td>\n",
       "      <td>6.8</td>\n",
       "      <td>14.8</td>\n",
       "      <td>6</td>\n",
       "      <td>26</td>\n",
       "      <td>5</td>\n",
       "      <td>2024</td>\n",
       "      <td>0</td>\n",
       "    </tr>\n",
       "  </tbody>\n",
       "</table>\n",
       "</div>"
      ],
      "text/plain": [
       "         timestamp            datetime       date  hour  temperature_2m  \\\n",
       "115  1716750000000 2024-05-26 19:00:00 2024-05-26    19            17.5   \n",
       "116  1716753600000 2024-05-26 20:00:00 2024-05-26    20            16.9   \n",
       "117  1716757200000 2024-05-26 21:00:00 2024-05-26    21            16.4   \n",
       "118  1716760800000 2024-05-26 22:00:00 2024-05-26    22            15.8   \n",
       "119  1716764400000 2024-05-26 23:00:00 2024-05-26    23            15.3   \n",
       "\n",
       "     relative_humidity_2m  precipitation  rain  snowfall  weather_code  \\\n",
       "115                  87.0            0.0   0.0       0.0           2.0   \n",
       "116                  90.0            0.0   0.0       0.0           2.0   \n",
       "117                  92.0            0.0   0.0       0.0           2.0   \n",
       "118                  93.0            0.0   0.0       0.0           1.0   \n",
       "119                  94.0            0.0   0.0       0.0           1.0   \n",
       "\n",
       "     cloud_cover  wind_speed_10m  wind_gusts_10m  dayofweek  day  month  year  \\\n",
       "115         89.0            11.3            27.7          6   26      5  2024   \n",
       "116         77.0             9.2            22.0          6   26      5  2024   \n",
       "117         66.0             7.6            16.6          6   26      5  2024   \n",
       "118         52.0             7.1            15.5          6   26      5  2024   \n",
       "119         37.0             6.8            14.8          6   26      5  2024   \n",
       "\n",
       "     workday  \n",
       "115        0  \n",
       "116        0  \n",
       "117        0  \n",
       "118        0  \n",
       "119        0  "
      ]
     },
     "execution_count": 9,
     "metadata": {},
     "output_type": "execute_result"
    }
   ],
   "source": [
    "# Merging the weather forecast and calendar dataframes\n",
    "new_data = pd.merge(weather_forecast_df, calendar_df, how='inner', left_on='date', right_on='date')\n",
    "\n",
    "# Displaying the new data\n",
    "new_data.tail()"
   ]
  },
  {
   "cell_type": "code",
   "execution_count": 10,
   "metadata": {},
   "outputs": [
    {
     "data": {
      "text/plain": [
       "array([[0.35136837],\n",
       "       [0.36620186],\n",
       "       [0.72538727],\n",
       "       ...,\n",
       "       [0.57813383],\n",
       "       [0.36261009],\n",
       "       [0.37551443]])"
      ]
     },
     "execution_count": 10,
     "metadata": {},
     "output_type": "execute_result"
    }
   ],
   "source": [
    "from sklearn.preprocessing import MinMaxScaler\n",
    "target_scaler = MinMaxScaler(feature_range=(0, 1))\n",
    "target_scaler.fit_transform(df[['dk1_spotpricedkk_kwh']])"
   ]
  },
  {
   "cell_type": "code",
   "execution_count": 11,
   "metadata": {},
   "outputs": [],
   "source": [
    "from sklearn.preprocessing import MinMaxScaler\n",
    "\n",
    "# Selecting the relevant features and target\n",
    "features = new_data.drop(columns=['datetime','date','timestamp'])\n",
    "\n",
    "\n",
    "# Scaling the features and target\n",
    "scaler_features = MinMaxScaler()\n",
    "\n",
    "features_scaled = scaler_features.fit_transform(features)\n",
    "\n",
    "data = np.array(features_scaled)"
   ]
  },
  {
   "cell_type": "code",
   "execution_count": 36,
   "metadata": {},
   "outputs": [],
   "source": [
    "# Prepare the data for LSTM model for the X_new_data\n",
    "time_steps = 25\n",
    "\n",
    "X_new_data = []\n",
    "for i in range(len(data) - time_steps + 1):\n",
    "    X_new_data.append(data[i:(i + time_steps), :])\n",
    "X_new_data = np.array(X_new_data)"
   ]
  },
  {
   "cell_type": "code",
   "execution_count": 30,
   "metadata": {},
   "outputs": [
    {
     "data": {
      "text/plain": [
       "(96, 25, 15)"
      ]
     },
     "execution_count": 30,
     "metadata": {},
     "output_type": "execute_result"
    }
   ],
   "source": [
    "X_new_data.shape"
   ]
  },
  {
   "cell_type": "markdown",
   "metadata": {},
   "source": [
    "## <span style=\"color:#2656a3;\">🤖 Making the predictions</span>\n",
    "\n",
    "We now want to make predictions based on our trained model from Hopsworks and the forecasted weather measures."
   ]
  },
  {
   "cell_type": "code",
   "execution_count": null,
   "metadata": {},
   "outputs": [],
   "source": [
    "# Using the serving function to make predictions\n",
    "x = serving_function(tf.constant(X_new_data, dtype=tf.float32))\n",
    "\n",
    "# Extracting and converting the predictions to a NumPy array\n",
    "predictions = x[list(x.keys())[0]].numpy()\n",
    "\n",
    "# Inverse transform the predictions to get the original scale\n",
    "predictions = target_scaler.inverse_transform(predictions)\n",
    "\n",
    "print(predictions)"
   ]
  },
  {
   "cell_type": "code",
   "execution_count": 32,
   "metadata": {},
   "outputs": [
    {
     "data": {
      "text/html": [
       "<div>\n",
       "<style scoped>\n",
       "    .dataframe tbody tr th:only-of-type {\n",
       "        vertical-align: middle;\n",
       "    }\n",
       "\n",
       "    .dataframe tbody tr th {\n",
       "        vertical-align: top;\n",
       "    }\n",
       "\n",
       "    .dataframe thead th {\n",
       "        text-align: right;\n",
       "    }\n",
       "</style>\n",
       "<table border=\"1\" class=\"dataframe\">\n",
       "  <thead>\n",
       "    <tr style=\"text-align: right;\">\n",
       "      <th></th>\n",
       "      <th>prediction</th>\n",
       "      <th>time</th>\n",
       "    </tr>\n",
       "  </thead>\n",
       "  <tbody>\n",
       "    <tr>\n",
       "      <th>24</th>\n",
       "      <td>0.206589</td>\n",
       "      <td>2024-05-23 00:00:00</td>\n",
       "    </tr>\n",
       "    <tr>\n",
       "      <th>25</th>\n",
       "      <td>0.125989</td>\n",
       "      <td>2024-05-23 01:00:00</td>\n",
       "    </tr>\n",
       "    <tr>\n",
       "      <th>26</th>\n",
       "      <td>0.080846</td>\n",
       "      <td>2024-05-23 02:00:00</td>\n",
       "    </tr>\n",
       "    <tr>\n",
       "      <th>27</th>\n",
       "      <td>0.065663</td>\n",
       "      <td>2024-05-23 03:00:00</td>\n",
       "    </tr>\n",
       "    <tr>\n",
       "      <th>28</th>\n",
       "      <td>0.047445</td>\n",
       "      <td>2024-05-23 04:00:00</td>\n",
       "    </tr>\n",
       "    <tr>\n",
       "      <th>...</th>\n",
       "      <td>...</td>\n",
       "      <td>...</td>\n",
       "    </tr>\n",
       "    <tr>\n",
       "      <th>115</th>\n",
       "      <td>0.274563</td>\n",
       "      <td>2024-05-26 19:00:00</td>\n",
       "    </tr>\n",
       "    <tr>\n",
       "      <th>116</th>\n",
       "      <td>0.486204</td>\n",
       "      <td>2024-05-26 20:00:00</td>\n",
       "    </tr>\n",
       "    <tr>\n",
       "      <th>117</th>\n",
       "      <td>0.601862</td>\n",
       "      <td>2024-05-26 21:00:00</td>\n",
       "    </tr>\n",
       "    <tr>\n",
       "      <th>118</th>\n",
       "      <td>0.614266</td>\n",
       "      <td>2024-05-26 22:00:00</td>\n",
       "    </tr>\n",
       "    <tr>\n",
       "      <th>119</th>\n",
       "      <td>0.602444</td>\n",
       "      <td>2024-05-26 23:00:00</td>\n",
       "    </tr>\n",
       "  </tbody>\n",
       "</table>\n",
       "<p>96 rows × 2 columns</p>\n",
       "</div>"
      ],
      "text/plain": [
       "     prediction                time\n",
       "24     0.206589 2024-05-23 00:00:00\n",
       "25     0.125989 2024-05-23 01:00:00\n",
       "26     0.080846 2024-05-23 02:00:00\n",
       "27     0.065663 2024-05-23 03:00:00\n",
       "28     0.047445 2024-05-23 04:00:00\n",
       "..          ...                 ...\n",
       "115    0.274563 2024-05-26 19:00:00\n",
       "116    0.486204 2024-05-26 20:00:00\n",
       "117    0.601862 2024-05-26 21:00:00\n",
       "118    0.614266 2024-05-26 22:00:00\n",
       "119    0.602444 2024-05-26 23:00:00\n",
       "\n",
       "[96 rows x 2 columns]"
      ]
     },
     "execution_count": 32,
     "metadata": {},
     "output_type": "execute_result"
    }
   ],
   "source": [
    "# Combine predictions with datetime index from new_data (adjust index as needed)\n",
    "predictions_data = {\n",
    "    'prediction': predictions.flatten(),  # Ensure predictions is 1D\n",
    "    'time': new_data['datetime'][24:]  # Adjust index for look_back\n",
    "}\n",
    "\n",
    "# Create a DataFrame from the predictions data\n",
    "predictions_df = pd.DataFrame(predictions_data)\n",
    "\n",
    "# Display the new electricity price predictions\n",
    "predictions_df"
   ]
  },
  {
   "cell_type": "markdown",
   "metadata": {},
   "source": [
    "### <span style=\"color:#2656a3;\">📊 Plot the predictions</span>\n",
    "\n",
    "Now we plot the predictions as a linechart for the comming five days.\n",
    "We are plotting the linechart with both matplotlib and Altair for interactive visualization."
   ]
  },
  {
   "cell_type": "code",
   "execution_count": 35,
   "metadata": {},
   "outputs": [
    {
     "data": {
      "image/png": "[encoded data removed]",
      "text/plain": [
       "<Figure size 1000x600 with 1 Axes>"
      ]
     },
     "metadata": {},
     "output_type": "display_data"
    }
   ],
   "source": [
    "# Importing matplotlib for plotting\n",
    "import matplotlib.pyplot as plt\n",
    "\n",
    "# Group the data by date and calculate the average temperature for each day\n",
    "daily_data = predictions_df.groupby('time')['prediction'].mean()\n",
    " \n",
    "# Create the plot\n",
    "plt.figure(figsize=(10, 6))\n",
    "plt.plot(daily_data.index, daily_data.values)\n",
    "plt.xlabel('Date')\n",
    "plt.ylabel('Spot Price (DKK)')\n",
    "plt.title('LSTM Spot Price for DK1 ')\n",
    "plt.xticks(rotation=45)\n",
    "plt.grid(True)\n",
    " \n",
    "# Show the plot\n",
    "plt.show()"
   ]
  },
  {
   "cell_type": "code",
   "execution_count": 34,
   "metadata": {},
   "outputs": [
    {
     "name": "stdout",
     "output_type": "stream",
     "text": [
      "2024-05-22 20:56:35,731 WARNING: DeprecationWarning: jsonschema.RefResolver is deprecated as of v4.18.0, in favor of the https://github.com/python-jsonschema/referencing library, which provides more compliant referencing behavior as well as more flexible APIs for customization. A future release will remove RefResolver. Please file a feature request (on referencing) if you are missing an API for the kind of customization you need.\n",
      "\n",
      "2024-05-22 20:56:35,739 WARNING: DeprecationWarning: jsonschema.RefResolver is deprecated as of v4.18.0, in favor of the https://github.com/python-jsonschema/referencing library, which provides more compliant referencing behavior as well as more flexible APIs for customization. A future release will remove RefResolver. Please file a feature request (on referencing) if you are missing an API for the kind of customization you need.\n",
      "\n",
      "2024-05-22 20:56:35,761 WARNING: DeprecationWarning: jsonschema.RefResolver is deprecated as of v4.18.0, in favor of the https://github.com/python-jsonschema/referencing library, which provides more compliant referencing behavior as well as more flexible APIs for customization. A future release will remove RefResolver. Please file a feature request (on referencing) if you are missing an API for the kind of customization you need.\n",
      "\n"
     ]
    },
    {
     "data": {
      "text/html": [
       "\n",
       "<div id=\"altair-viz-cc3252076683422aafac2396456a8a63\"></div>\n",
       "<script type=\"text/javascript\">\n",
       "  var VEGA_DEBUG = (typeof VEGA_DEBUG == \"undefined\") ? {} : VEGA_DEBUG;\n",
       "  (function(spec, embedOpt){\n",
       "    let outputDiv = document.currentScript.previousElementSibling;\n",
       "    if (outputDiv.id !== \"altair-viz-cc3252076683422aafac2396456a8a63\") {\n",
       "      outputDiv = document.getElementById(\"altair-viz-cc3252076683422aafac2396456a8a63\");\n",
       "    }\n",
       "    const paths = {\n",
       "      \"vega\": \"https://cdn.jsdelivr.net/npm//vega@5?noext\",\n",
       "      \"vega-lib\": \"https://cdn.jsdelivr.net/npm//vega-lib?noext\",\n",
       "      \"vega-lite\": \"https://cdn.jsdelivr.net/npm//vega-lite@4.17.0?noext\",\n",
       "      \"vega-embed\": \"https://cdn.jsdelivr.net/npm//vega-embed@6?noext\",\n",
       "    };\n",
       "\n",
       "    function maybeLoadScript(lib, version) {\n",
       "      var key = `${lib.replace(\"-\", \"\")}_version`;\n",
       "      return (VEGA_DEBUG[key] == version) ?\n",
       "        Promise.resolve(paths[lib]) :\n",
       "        new Promise(function(resolve, reject) {\n",
       "          var s = document.createElement('script');\n",
       "          document.getElementsByTagName(\"head\")[0].appendChild(s);\n",
       "          s.async = true;\n",
       "          s.onload = () => {\n",
       "            VEGA_DEBUG[key] = version;\n",
       "            return resolve(paths[lib]);\n",
       "          };\n",
       "          s.onerror = () => reject(`Error loading script: ${paths[lib]}`);\n",
       "          s.src = paths[lib];\n",
       "        });\n",
       "    }\n",
       "\n",
       "    function showError(err) {\n",
       "      outputDiv.innerHTML = `<div class=\"error\" style=\"color:red;\">${err}</div>`;\n",
       "      throw err;\n",
       "    }\n",
       "\n",
       "    function displayChart(vegaEmbed) {\n",
       "      vegaEmbed(outputDiv, spec, embedOpt)\n",
       "        .catch(err => showError(`Javascript Error: ${err.message}<br>This usually means there's a typo in your chart specification. See the javascript console for the full traceback.`));\n",
       "    }\n",
       "\n",
       "    if(typeof define === \"function\" && define.amd) {\n",
       "      requirejs.config({paths});\n",
       "      require([\"vega-embed\"], displayChart, err => showError(`Error loading script: ${err.message}`));\n",
       "    } else {\n",
       "      maybeLoadScript(\"vega\", \"5\")\n",
       "        .then(() => maybeLoadScript(\"vega-lite\", \"4.17.0\"))\n",
       "        .then(() => maybeLoadScript(\"vega-embed\", \"6\"))\n",
       "        .catch(showError)\n",
       "        .then(() => displayChart(vegaEmbed));\n",
       "    }\n",
       "  })({\"config\": {\"view\": {\"continuousWidth\": 400, \"continuousHeight\": 300}}, \"data\": {\"name\": \"data-42edaaf1de326b5eac7d370a02b00f1f\"}, \"mark\": {\"type\": \"line\", \"point\": true}, \"encoding\": {\"tooltip\": [{\"field\": \"time\", \"format\": \"%Y-%m-%d\", \"title\": \"Date\", \"type\": \"temporal\"}, {\"field\": \"time\", \"format\": \"%H:%M\", \"title\": \"Time\", \"type\": \"temporal\"}, {\"field\": \"prediction\", \"format\": \".2f\", \"title\": \"Spot Price (DKK)\", \"type\": \"quantitative\"}], \"x\": {\"field\": \"time\", \"type\": \"temporal\"}, \"y\": {\"field\": \"prediction\", \"type\": \"quantitative\"}}, \"selection\": {\"selector001\": {\"type\": \"interval\", \"bind\": \"scales\", \"encodings\": [\"x\", \"y\"]}}, \"$schema\": \"https://vega.github.io/schema/vega-lite/v4.17.0.json\", \"datasets\": {\"data-42edaaf1de326b5eac7d370a02b00f1f\": [{\"prediction\": 0.2065887749195099, \"time\": \"2024-05-23T00:00:00\"}, {\"prediction\": 0.1259891390800476, \"time\": \"2024-05-23T01:00:00\"}, {\"prediction\": 0.08084644377231598, \"time\": \"2024-05-23T02:00:00\"}, {\"prediction\": 0.06566282361745834, \"time\": \"2024-05-23T03:00:00\"}, {\"prediction\": 0.04744502902030945, \"time\": \"2024-05-23T04:00:00\"}, {\"prediction\": 0.0639108195900917, \"time\": \"2024-05-23T05:00:00\"}, {\"prediction\": 0.09013967216014862, \"time\": \"2024-05-23T06:00:00\"}, {\"prediction\": 0.10038885474205017, \"time\": \"2024-05-23T07:00:00\"}, {\"prediction\": 0.10678514838218689, \"time\": \"2024-05-23T08:00:00\"}, {\"prediction\": 0.11635283380746841, \"time\": \"2024-05-23T09:00:00\"}, {\"prediction\": 0.12022782117128372, \"time\": \"2024-05-23T10:00:00\"}, {\"prediction\": 0.1550951600074768, \"time\": \"2024-05-23T11:00:00\"}, {\"prediction\": 0.17822064459323883, \"time\": \"2024-05-23T12:00:00\"}, {\"prediction\": 0.20716968178749084, \"time\": \"2024-05-23T13:00:00\"}, {\"prediction\": 0.34432297945022583, \"time\": \"2024-05-23T14:00:00\"}, {\"prediction\": 0.40286940336227417, \"time\": \"2024-05-23T15:00:00\"}, {\"prediction\": 0.4071630537509918, \"time\": \"2024-05-23T16:00:00\"}, {\"prediction\": 0.36714786291122437, \"time\": \"2024-05-23T17:00:00\"}, {\"prediction\": 0.33560892939567566, \"time\": \"2024-05-23T18:00:00\"}, {\"prediction\": 0.3734819293022156, \"time\": \"2024-05-23T19:00:00\"}, {\"prediction\": 0.3213701844215393, \"time\": \"2024-05-23T20:00:00\"}, {\"prediction\": 0.7930477261543274, \"time\": \"2024-05-23T21:00:00\"}, {\"prediction\": 0.7893919944763184, \"time\": \"2024-05-23T22:00:00\"}, {\"prediction\": 0.6505239009857178, \"time\": \"2024-05-23T23:00:00\"}, {\"prediction\": 0.5704684853553772, \"time\": \"2024-05-24T00:00:00\"}, {\"prediction\": 0.5530240535736084, \"time\": \"2024-05-24T01:00:00\"}, {\"prediction\": 0.5823614597320557, \"time\": \"2024-05-24T02:00:00\"}, {\"prediction\": 0.6253846883773804, \"time\": \"2024-05-24T03:00:00\"}, {\"prediction\": 0.7126097679138184, \"time\": \"2024-05-24T04:00:00\"}, {\"prediction\": 0.7996312379837036, \"time\": \"2024-05-24T05:00:00\"}, {\"prediction\": 0.8099310398101807, \"time\": \"2024-05-24T06:00:00\"}, {\"prediction\": 0.8555249571800232, \"time\": \"2024-05-24T07:00:00\"}, {\"prediction\": 0.8475435376167297, \"time\": \"2024-05-24T08:00:00\"}, {\"prediction\": 0.7965528964996338, \"time\": \"2024-05-24T09:00:00\"}, {\"prediction\": 0.7346310019493103, \"time\": \"2024-05-24T10:00:00\"}, {\"prediction\": 0.694537878036499, \"time\": \"2024-05-24T11:00:00\"}, {\"prediction\": 0.6778249740600586, \"time\": \"2024-05-24T12:00:00\"}, {\"prediction\": 0.6635949611663818, \"time\": \"2024-05-24T13:00:00\"}, {\"prediction\": 0.6397879719734192, \"time\": \"2024-05-24T14:00:00\"}, {\"prediction\": 0.6165496706962585, \"time\": \"2024-05-24T15:00:00\"}, {\"prediction\": 0.6275507211685181, \"time\": \"2024-05-24T16:00:00\"}, {\"prediction\": 0.6802613735198975, \"time\": \"2024-05-24T17:00:00\"}, {\"prediction\": 0.8067654371261597, \"time\": \"2024-05-24T18:00:00\"}, {\"prediction\": 1.0940239429473877, \"time\": \"2024-05-24T19:00:00\"}, {\"prediction\": 1.431894063949585, \"time\": \"2024-05-24T20:00:00\"}, {\"prediction\": 1.5915331840515137, \"time\": \"2024-05-24T21:00:00\"}, {\"prediction\": 1.5462555885314941, \"time\": \"2024-05-24T22:00:00\"}, {\"prediction\": 1.452820897102356, \"time\": \"2024-05-24T23:00:00\"}, {\"prediction\": 1.2726153135299683, \"time\": \"2024-05-25T00:00:00\"}, {\"prediction\": 1.2402535676956177, \"time\": \"2024-05-25T01:00:00\"}, {\"prediction\": 1.2524943351745605, \"time\": \"2024-05-25T02:00:00\"}, {\"prediction\": 1.2396948337554932, \"time\": \"2024-05-25T03:00:00\"}, {\"prediction\": 1.2364071607589722, \"time\": \"2024-05-25T04:00:00\"}, {\"prediction\": 1.2781354188919067, \"time\": \"2024-05-25T05:00:00\"}, {\"prediction\": 1.288438081741333, \"time\": \"2024-05-25T06:00:00\"}, {\"prediction\": 1.2471959590911865, \"time\": \"2024-05-25T07:00:00\"}, {\"prediction\": 1.1691739559173584, \"time\": \"2024-05-25T08:00:00\"}, {\"prediction\": 1.086112380027771, \"time\": \"2024-05-25T09:00:00\"}, {\"prediction\": 0.9651259779930115, \"time\": \"2024-05-25T10:00:00\"}, {\"prediction\": 0.7910555601119995, \"time\": \"2024-05-25T11:00:00\"}, {\"prediction\": 0.6309186816215515, \"time\": \"2024-05-25T12:00:00\"}, {\"prediction\": 0.5021252632141113, \"time\": \"2024-05-25T13:00:00\"}, {\"prediction\": 0.41090428829193115, \"time\": \"2024-05-25T14:00:00\"}, {\"prediction\": 0.36348801851272583, \"time\": \"2024-05-25T15:00:00\"}, {\"prediction\": 0.37138625979423523, \"time\": \"2024-05-25T16:00:00\"}, {\"prediction\": 0.4537425637245178, \"time\": \"2024-05-25T17:00:00\"}, {\"prediction\": 0.5433295965194702, \"time\": \"2024-05-25T18:00:00\"}, {\"prediction\": 0.75432288646698, \"time\": \"2024-05-25T19:00:00\"}, {\"prediction\": 1.008528232574463, \"time\": \"2024-05-25T20:00:00\"}, {\"prediction\": 1.2017979621887207, \"time\": \"2024-05-25T21:00:00\"}, {\"prediction\": 1.2648380994796753, \"time\": \"2024-05-25T22:00:00\"}, {\"prediction\": 1.1992813348770142, \"time\": \"2024-05-25T23:00:00\"}, {\"prediction\": 1.0082823038101196, \"time\": \"2024-05-26T00:00:00\"}, {\"prediction\": 0.9648573398590088, \"time\": \"2024-05-26T01:00:00\"}, {\"prediction\": 0.8942812085151672, \"time\": \"2024-05-26T02:00:00\"}, {\"prediction\": 0.7936530709266663, \"time\": \"2024-05-26T03:00:00\"}, {\"prediction\": 0.7287499308586121, \"time\": \"2024-05-26T04:00:00\"}, {\"prediction\": 0.6884329319000244, \"time\": \"2024-05-26T05:00:00\"}, {\"prediction\": 0.6184540390968323, \"time\": \"2024-05-26T06:00:00\"}, {\"prediction\": 0.5176804661750793, \"time\": \"2024-05-26T07:00:00\"}, {\"prediction\": 0.39413902163505554, \"time\": \"2024-05-26T08:00:00\"}, {\"prediction\": 0.2651369273662567, \"time\": \"2024-05-26T09:00:00\"}, {\"prediction\": 0.16334928572177887, \"time\": \"2024-05-26T10:00:00\"}, {\"prediction\": 0.09190679341554642, \"time\": \"2024-05-26T11:00:00\"}, {\"prediction\": 0.05149271711707115, \"time\": \"2024-05-26T12:00:00\"}, {\"prediction\": 0.03419424220919609, \"time\": \"2024-05-26T13:00:00\"}, {\"prediction\": 0.004448586609214544, \"time\": \"2024-05-26T14:00:00\"}, {\"prediction\": -0.015481089241802692, \"time\": \"2024-05-26T15:00:00\"}, {\"prediction\": -0.012199792079627514, \"time\": \"2024-05-26T16:00:00\"}, {\"prediction\": 0.04225065931677818, \"time\": \"2024-05-26T17:00:00\"}, {\"prediction\": 0.10527969151735306, \"time\": \"2024-05-26T18:00:00\"}, {\"prediction\": 0.2745627164840698, \"time\": \"2024-05-26T19:00:00\"}, {\"prediction\": 0.4862043261528015, \"time\": \"2024-05-26T20:00:00\"}, {\"prediction\": 0.6018620133399963, \"time\": \"2024-05-26T21:00:00\"}, {\"prediction\": 0.6142656207084656, \"time\": \"2024-05-26T22:00:00\"}, {\"prediction\": 0.6024441123008728, \"time\": \"2024-05-26T23:00:00\"}]}}, {\"mode\": \"vega-lite\"});\n",
       "</script>"
      ],
      "text/plain": [
       "alt.Chart(...)"
      ]
     },
     "execution_count": 34,
     "metadata": {},
     "output_type": "execute_result"
    }
   ],
   "source": [
    "# Importing Altair for interactive visualization\n",
    "import altair as alt\n",
    "\n",
    "# Create Altair chart with line and dots\n",
    "chart = alt.Chart(predictions_df).mark_line(point=True).encode(\n",
    "    x='time:T', \n",
    "    y='prediction:Q', \n",
    "    # Adding tooltips for interactive information display\n",
    "    tooltip=[alt.Tooltip('time:T', title='Date', format='%Y-%m-%d'), \n",
    "             alt.Tooltip('time:T', title='Time', format='%H:%M'), \n",
    "             alt.Tooltip('prediction:Q', title='Spot Price (DKK)', format='.2f')\n",
    "            ]\n",
    ")\n",
    " \n",
    "# Display the chart\n",
    "chart.interactive()"
   ]
  },
  {
   "cell_type": "markdown",
   "metadata": {},
   "source": [
    "---\n",
    "## <span style=\"color:#2656a3;\">⏭️ **Next:** Creating our app.py for a streamlit application ([link](https://github.com/Camillahannesbo/MLOPs-Assignment-/blob/main/app.py)) </span>\n"
   ]
  }
 ],
 "metadata": {
  "kernelspec": {
   "display_name": "bds-mlops",
   "language": "python",
   "name": "python3"
  },
  "language_info": {
   "codemirror_mode": {
    "name": "ipython",
    "version": 3
   },
   "file_extension": ".py",
   "mimetype": "text/x-python",
   "name": "python",
   "nbconvert_exporter": "python",
   "pygments_lexer": "ipython3",
   "version": "3.11.9"
  },
  "orig_nbformat": 4
 },
 "nbformat": 4,
 "nbformat_minor": 2
}
