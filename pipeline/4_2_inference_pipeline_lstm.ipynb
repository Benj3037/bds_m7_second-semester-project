{
 "cells": [
  {
   "cell_type": "markdown",
   "metadata": {},
   "source": [
    "# <span style=\"font-width:bold; font-size: 3rem; color:#2656a3;\">**Msc. BDS - M7 Second Semester Project** </span> <span style=\"font-width:bold; font-size: 3rem; color:#333;\">- Part 04: Batch Inference</span>"
   ]
  },
  {
   "cell_type": "markdown",
   "metadata": {},
   "source": [
    "## <span style='color:#2656a3'> 🗒️ This notebook is divided into the following sections:\n",
    "\n",
    "1. Load new batch data.\n",
    "2. Predict using model from Model Registry."
   ]
  },
  {
   "cell_type": "markdown",
   "metadata": {},
   "source": [
    "## <span style='color:#2656a3'> ⚙️ Import of libraries and packages\n",
    "\n",
    "We start by accessing the folder we have created that holds the functions (incl. live API calls and data preprocessing) we need for electricity prices, weather measures, and calendar. Then, we proceed to import some of the necessary libraries needed for this notebook and warnings to avoid unnecessary distractions and keep output clean."
   ]
  },
  {
   "cell_type": "code",
   "execution_count": 1,
   "metadata": {},
   "outputs": [
    {
     "name": "stdout",
     "output_type": "stream",
     "text": [
      "/Users/tobiasmjensen/Documents/aau_bds/m7_second-semester-project/bds_m7_second-semester-project\n",
      "/Users/tobiasmjensen/Documents/aau_bds/m7_second-semester-project/bds_m7_second-semester-project/pipeline\n"
     ]
    }
   ],
   "source": [
    "# First we go one back in our directory to access the folder with our functions\n",
    "%cd ..\n",
    "\n",
    "# Now we import the functions from the features folder\n",
    "# This is the functions we have created to generate features for weather measures and calandar\n",
    "from features import weather_measures, calendar, electricity_prices  \n",
    "\n",
    "# We go back into the notebooks folder\n",
    "%cd pipeline"
   ]
  },
  {
   "cell_type": "code",
   "execution_count": 2,
   "metadata": {},
   "outputs": [],
   "source": [
    "# Importing pandas for data handling\n",
    "import pandas as pd\n",
    "import numpy as np\n",
    "import tensorflow as tf\n",
    "\n",
    "# Ignore warnings\n",
    "import warnings \n",
    "warnings.filterwarnings('ignore')\n",
    "warnings.filterwarnings(\"ignore\", category=DeprecationWarning)"
   ]
  },
  {
   "cell_type": "markdown",
   "metadata": {},
   "source": [
    "## <span style=\"color:#2656a3;\"> 📡 Connecting to Hopsworks Feature Store\n",
    "We connect to the Hopsworks Feature Store so we can retrieve the Feature View, access the Model Registry, and retrieve the saved model from training."
   ]
  },
  {
   "cell_type": "code",
   "execution_count": 3,
   "metadata": {},
   "outputs": [
    {
     "name": "stdout",
     "output_type": "stream",
     "text": [
      "Connected. Call `.close()` to terminate connection gracefully.\n",
      "\n",
      "Logged in to project, explore it here https://c.app.hopsworks.ai:443/p/554133\n",
      "Connected. Call `.close()` to terminate connection gracefully.\n"
     ]
    }
   ],
   "source": [
    "# Importing the hopsworks module\n",
    "import hopsworks\n",
    "\n",
    "# Logging into the Hopsworks project\n",
    "project = hopsworks.login()\n",
    "\n",
    "# Getting the feature store from the project\n",
    "fs = project.get_feature_store() "
   ]
  },
  {
   "cell_type": "markdown",
   "metadata": {},
   "source": [
    "### <span style='color:#2656a3'> 📮 Retrieving model from Model Registry"
   ]
  },
  {
   "cell_type": "code",
   "execution_count": 4,
   "metadata": {},
   "outputs": [
    {
     "name": "stdout",
     "output_type": "stream",
     "text": [
      "Connected. Call `.close()` to terminate connection gracefully.\n"
     ]
    }
   ],
   "source": [
    "# Retrieve the model registry\n",
    "mr = project.get_model_registry()\n",
    "\n",
    "# Retrieving the TensorFlow model from the Model Registry\n",
    "model = mr.get_model(\n",
    "    name=\"lstm_electricity_price_model\", \n",
    "    version=1,\n",
    ")"
   ]
  },
  {
   "cell_type": "code",
   "execution_count": 5,
   "metadata": {},
   "outputs": [
    {
     "name": "stdout",
     "output_type": "stream",
     "text": [
      "Downloading model artifact (2 dirs, 4 files)... DONE\r"
     ]
    }
   ],
   "source": [
    "# Downloading the model to a local directory\n",
    "model_dir = model.download()\n",
    "\n",
    "# Loading the saved TensorFlow model\n",
    "loaded_model = tf.saved_model.load(model_dir)\n",
    "\n",
    "# Accessing the serving function of the loaded model\n",
    "serving_function = loaded_model.signatures[\"serving_default\"]"
   ]
  },
  {
   "cell_type": "markdown",
   "metadata": {},
   "source": [
    " The `\"serving_default\"` function from the loaded model's signatures. This serving function is designed for inference and is the entry point for making predictions with the model"
   ]
  },
  {
   "cell_type": "markdown",
   "metadata": {},
   "source": [
    "## <span style='color:#2656a3'> ✨ Load New Data\n",
    "Our objective is to predict the electricity prices for the upcoming days, therefore we load a weather forecast as batch data to make predictions."
   ]
  },
  {
   "cell_type": "code",
   "execution_count": 6,
   "metadata": {},
   "outputs": [
    {
     "name": "stderr",
     "output_type": "stream",
     "text": [
      "DeprecationWarning: np.find_common_type is deprecated.  Please use `np.result_type` or `np.promote_types`.\n",
      "See https://numpy.org/devdocs/release/1.25.0-notes.html and the docs for more information.  (Deprecated NumPy 1.25)\n"
     ]
    }
   ],
   "source": [
    "# Fetching weather forecast measures for the next 5 days\n",
    "weather_forecast_df = weather_measures.forecast_weather_measures(\n",
    "    forecast_length=5\n",
    ")\n",
    "\n",
    "# Fetching danish calendar\n",
    "calendar_df = calendar.calendar_denmark(\n",
    "    freq='H',\n",
    ")\n",
    "\n",
    "# Fetching the electricity prices\n",
    "electricity_price_df = electricity_prices.electricity_prices(\n",
    "    historical=True,\n",
    "    area=[\"DK1\"],\n",
    "    start='2020-01-01'\n",
    ")"
   ]
  },
  {
   "cell_type": "code",
   "execution_count": 7,
   "metadata": {},
   "outputs": [],
   "source": [
    "# Merging the weather forecast and calendar dataframes\n",
    "new_data = pd.merge(weather_forecast_df, calendar_df, how='inner', left_on='timestamp', right_on='timestamp')"
   ]
  },
  {
   "cell_type": "code",
   "execution_count": 8,
   "metadata": {},
   "outputs": [
    {
     "data": {
      "text/html": [
       "<div>\n",
       "<style scoped>\n",
       "    .dataframe tbody tr th:only-of-type {\n",
       "        vertical-align: middle;\n",
       "    }\n",
       "\n",
       "    .dataframe tbody tr th {\n",
       "        vertical-align: top;\n",
       "    }\n",
       "\n",
       "    .dataframe thead th {\n",
       "        text-align: right;\n",
       "    }\n",
       "</style>\n",
       "<table border=\"1\" class=\"dataframe\">\n",
       "  <thead>\n",
       "    <tr style=\"text-align: right;\">\n",
       "      <th></th>\n",
       "      <th>timestamp</th>\n",
       "      <th>datetime</th>\n",
       "      <th>date</th>\n",
       "      <th>hour</th>\n",
       "      <th>temperature_2m</th>\n",
       "      <th>relative_humidity_2m</th>\n",
       "      <th>precipitation</th>\n",
       "      <th>rain</th>\n",
       "      <th>snowfall</th>\n",
       "      <th>weather_code</th>\n",
       "      <th>cloud_cover</th>\n",
       "      <th>wind_speed_10m</th>\n",
       "      <th>wind_gusts_10m</th>\n",
       "      <th>dayofweek</th>\n",
       "      <th>day</th>\n",
       "      <th>month</th>\n",
       "      <th>year</th>\n",
       "      <th>workday</th>\n",
       "    </tr>\n",
       "  </thead>\n",
       "  <tbody>\n",
       "    <tr>\n",
       "      <th>115</th>\n",
       "      <td>1717009200000</td>\n",
       "      <td>2024-05-29 19:00:00</td>\n",
       "      <td>2024-05-29</td>\n",
       "      <td>19</td>\n",
       "      <td>15.4</td>\n",
       "      <td>74.0</td>\n",
       "      <td>0.0</td>\n",
       "      <td>0.0</td>\n",
       "      <td>0.0</td>\n",
       "      <td>61.0</td>\n",
       "      <td>97.0</td>\n",
       "      <td>16.5</td>\n",
       "      <td>33.1</td>\n",
       "      <td>2</td>\n",
       "      <td>29</td>\n",
       "      <td>5</td>\n",
       "      <td>2024</td>\n",
       "      <td>1</td>\n",
       "    </tr>\n",
       "    <tr>\n",
       "      <th>116</th>\n",
       "      <td>1717012800000</td>\n",
       "      <td>2024-05-29 20:00:00</td>\n",
       "      <td>2024-05-29</td>\n",
       "      <td>20</td>\n",
       "      <td>15.3</td>\n",
       "      <td>75.0</td>\n",
       "      <td>0.0</td>\n",
       "      <td>0.0</td>\n",
       "      <td>0.0</td>\n",
       "      <td>61.0</td>\n",
       "      <td>98.0</td>\n",
       "      <td>16.5</td>\n",
       "      <td>33.8</td>\n",
       "      <td>2</td>\n",
       "      <td>29</td>\n",
       "      <td>5</td>\n",
       "      <td>2024</td>\n",
       "      <td>1</td>\n",
       "    </tr>\n",
       "    <tr>\n",
       "      <th>117</th>\n",
       "      <td>1717016400000</td>\n",
       "      <td>2024-05-29 21:00:00</td>\n",
       "      <td>2024-05-29</td>\n",
       "      <td>21</td>\n",
       "      <td>15.1</td>\n",
       "      <td>76.0</td>\n",
       "      <td>0.0</td>\n",
       "      <td>0.0</td>\n",
       "      <td>0.0</td>\n",
       "      <td>61.0</td>\n",
       "      <td>100.0</td>\n",
       "      <td>16.9</td>\n",
       "      <td>34.2</td>\n",
       "      <td>2</td>\n",
       "      <td>29</td>\n",
       "      <td>5</td>\n",
       "      <td>2024</td>\n",
       "      <td>1</td>\n",
       "    </tr>\n",
       "    <tr>\n",
       "      <th>118</th>\n",
       "      <td>1717020000000</td>\n",
       "      <td>2024-05-29 22:00:00</td>\n",
       "      <td>2024-05-29</td>\n",
       "      <td>22</td>\n",
       "      <td>14.6</td>\n",
       "      <td>80.0</td>\n",
       "      <td>1.0</td>\n",
       "      <td>1.0</td>\n",
       "      <td>0.0</td>\n",
       "      <td>61.0</td>\n",
       "      <td>100.0</td>\n",
       "      <td>17.4</td>\n",
       "      <td>36.0</td>\n",
       "      <td>2</td>\n",
       "      <td>29</td>\n",
       "      <td>5</td>\n",
       "      <td>2024</td>\n",
       "      <td>1</td>\n",
       "    </tr>\n",
       "    <tr>\n",
       "      <th>119</th>\n",
       "      <td>1717023600000</td>\n",
       "      <td>2024-05-29 23:00:00</td>\n",
       "      <td>2024-05-29</td>\n",
       "      <td>23</td>\n",
       "      <td>14.0</td>\n",
       "      <td>85.0</td>\n",
       "      <td>1.0</td>\n",
       "      <td>1.0</td>\n",
       "      <td>0.0</td>\n",
       "      <td>61.0</td>\n",
       "      <td>100.0</td>\n",
       "      <td>18.2</td>\n",
       "      <td>38.2</td>\n",
       "      <td>2</td>\n",
       "      <td>29</td>\n",
       "      <td>5</td>\n",
       "      <td>2024</td>\n",
       "      <td>1</td>\n",
       "    </tr>\n",
       "  </tbody>\n",
       "</table>\n",
       "</div>"
      ],
      "text/plain": [
       "         timestamp            datetime       date  hour  temperature_2m  \\\n",
       "115  1717009200000 2024-05-29 19:00:00 2024-05-29    19            15.4   \n",
       "116  1717012800000 2024-05-29 20:00:00 2024-05-29    20            15.3   \n",
       "117  1717016400000 2024-05-29 21:00:00 2024-05-29    21            15.1   \n",
       "118  1717020000000 2024-05-29 22:00:00 2024-05-29    22            14.6   \n",
       "119  1717023600000 2024-05-29 23:00:00 2024-05-29    23            14.0   \n",
       "\n",
       "     relative_humidity_2m  precipitation  rain  snowfall  weather_code  \\\n",
       "115                  74.0            0.0   0.0       0.0          61.0   \n",
       "116                  75.0            0.0   0.0       0.0          61.0   \n",
       "117                  76.0            0.0   0.0       0.0          61.0   \n",
       "118                  80.0            1.0   1.0       0.0          61.0   \n",
       "119                  85.0            1.0   1.0       0.0          61.0   \n",
       "\n",
       "     cloud_cover  wind_speed_10m  wind_gusts_10m  dayofweek  day  month  year  \\\n",
       "115         97.0            16.5            33.1          2   29      5  2024   \n",
       "116         98.0            16.5            33.8          2   29      5  2024   \n",
       "117        100.0            16.9            34.2          2   29      5  2024   \n",
       "118        100.0            17.4            36.0          2   29      5  2024   \n",
       "119        100.0            18.2            38.2          2   29      5  2024   \n",
       "\n",
       "     workday  \n",
       "115        1  \n",
       "116        1  \n",
       "117        1  \n",
       "118        1  \n",
       "119        1  "
      ]
     },
     "execution_count": 8,
     "metadata": {},
     "output_type": "execute_result"
    }
   ],
   "source": [
    "# Dropping and renaming columns\n",
    "new_data.drop(columns=['datetime_y', 'hour_y', 'date_y'], inplace=True)\n",
    "new_data.rename(columns={\n",
    "    'date_x': 'date', \n",
    "    'datetime_x': 'datetime', \n",
    "    'hour_x': 'hour'}, inplace=True)\n",
    "\n",
    "# Displaying the new data\n",
    "new_data.tail()"
   ]
  },
  {
   "cell_type": "code",
   "execution_count": 10,
   "metadata": {},
   "outputs": [],
   "source": [
    "# Making a copy of the new data and name it forecast_data\n",
    "forecast_data = new_data.copy()"
   ]
  },
  {
   "cell_type": "code",
   "execution_count": 12,
   "metadata": {},
   "outputs": [],
   "source": [
    "# Drop columns 'dk1_spotpricedkk_kwh', 'timestamp', 'datetime', and 'date' from the DataFrame 'forecast_data'\n",
    "forecast_data.drop(columns=['timestamp', 'datetime', 'date'], inplace=True)"
   ]
  },
  {
   "cell_type": "markdown",
   "metadata": {},
   "source": [
    "#### <span style=\"color:#2656a3;\">👆 Feature Selection and Preprocessing</span>"
   ]
  },
  {
   "cell_type": "code",
   "execution_count": 14,
   "metadata": {},
   "outputs": [
    {
     "data": {
      "text/plain": [
       "array([[0.36153891],\n",
       "       [0.36027605],\n",
       "       [0.36012229],\n",
       "       ...,\n",
       "       [0.42455585],\n",
       "       [0.41983653],\n",
       "       [0.41231677]])"
      ]
     },
     "execution_count": 14,
     "metadata": {},
     "output_type": "execute_result"
    }
   ],
   "source": [
    "# Import the MinMaxScaler from the sklearn library\n",
    "from sklearn.preprocessing import MinMaxScaler\n",
    "\n",
    "# Create a MinMaxScaler object and fit_transform the 'electricity_price_df' DataFrame\n",
    "target_scaler = MinMaxScaler(feature_range=(0, 1))\n",
    "target_scaler.fit_transform(electricity_price_df[['dk1_spotpricedkk_kwh']])"
   ]
  },
  {
   "cell_type": "code",
   "execution_count": 15,
   "metadata": {},
   "outputs": [
    {
     "name": "stderr",
     "output_type": "stream",
     "text": [
      "DeprecationWarning: np.find_common_type is deprecated.  Please use `np.result_type` or `np.promote_types`.\n",
      "See https://numpy.org/devdocs/release/1.25.0-notes.html and the docs for more information.  (Deprecated NumPy 1.25)\n",
      "DeprecationWarning: np.find_common_type is deprecated.  Please use `np.result_type` or `np.promote_types`.\n",
      "See https://numpy.org/devdocs/release/1.25.0-notes.html and the docs for more information.  (Deprecated NumPy 1.25)\n",
      "DeprecationWarning: np.find_common_type is deprecated.  Please use `np.result_type` or `np.promote_types`.\n",
      "See https://numpy.org/devdocs/release/1.25.0-notes.html and the docs for more information.  (Deprecated NumPy 1.25)\n"
     ]
    }
   ],
   "source": [
    "# Scaling the features\n",
    "scaler_features = MinMaxScaler()\n",
    "features_scaled = scaler_features.fit_transform(forecast_data)\n",
    "\n",
    "# Imput the scaled features into a np array\n",
    "data = np.array(features_scaled)"
   ]
  },
  {
   "cell_type": "code",
   "execution_count": 16,
   "metadata": {},
   "outputs": [],
   "source": [
    "# Prepare the data for LSTM model for the X_new_data\n",
    "time_steps = 25 # 25 hours to get 00:00 hour in the sequence\n",
    "\n",
    "# Create a list to store the sequences\n",
    "X_new_data = []\n",
    "for i in range(len(data) - time_steps + 1):\n",
    "    X_new_data.append(data[i:(i + time_steps), :])\n",
    "X_new_data = np.array(X_new_data)"
   ]
  },
  {
   "cell_type": "markdown",
   "metadata": {},
   "source": [
    "## <span style=\"color:#2656a3;\">🤖 Making the predictions</span>\n",
    "\n",
    "We now want to make predictions based on our trained model from Hopsworks and the forecasted weather measures."
   ]
  },
  {
   "cell_type": "code",
   "execution_count": null,
   "metadata": {},
   "outputs": [],
   "source": [
    "# Using the serving function to make predictions\n",
    "x = serving_function(tf.constant(X_new_data, dtype=tf.float32))"
   ]
  },
  {
   "cell_type": "code",
   "execution_count": 17,
   "metadata": {},
   "outputs": [
    {
     "name": "stdout",
     "output_type": "stream",
     "text": [
      "[[ 0.14454302]\n",
      " [ 0.15722658]\n",
      " [ 0.15207553]\n",
      " [ 0.15182056]\n",
      " [ 0.1540328 ]\n",
      " [ 0.1489114 ]\n",
      " [ 0.1415045 ]\n",
      " [ 0.12263689]\n",
      " [ 0.08789778]\n",
      " [ 0.04718133]\n",
      " [ 0.00484487]\n",
      " [-0.02527148]\n",
      " [-0.04370442]\n",
      " [-0.01987359]\n",
      " [ 0.02745837]\n",
      " [ 0.04649053]\n",
      " [ 0.06529126]\n",
      " [ 0.09423126]\n",
      " [ 0.10909246]\n",
      " [ 0.08844844]\n",
      " [ 0.12010804]\n",
      " [ 0.08581055]\n",
      " [ 0.06061993]\n",
      " [ 0.07072984]\n",
      " [ 0.02373951]\n",
      " [ 0.00229624]\n",
      " [-0.0408386 ]\n",
      " [-0.00470625]\n",
      " [ 0.05443937]\n",
      " [ 0.09154366]\n",
      " [ 0.11637463]\n",
      " [ 0.11630835]\n",
      " [ 0.09700754]\n",
      " [ 0.08230044]\n",
      " [ 0.05099322]\n",
      " [ 0.00203224]\n",
      " [ 0.06623761]\n",
      " [-0.02599571]\n",
      " [ 0.03931651]\n",
      " [ 0.09762362]\n",
      " [ 0.21299234]\n",
      " [ 0.30868316]\n",
      " [ 0.32634562]\n",
      " [ 0.30445492]\n",
      " [ 0.32846802]\n",
      " [ 0.29335037]\n",
      " [ 0.24470077]\n",
      " [ 0.2086164 ]\n",
      " [ 0.20836811]\n",
      " [ 0.20120601]\n",
      " [ 0.18256025]\n",
      " [ 0.16808107]\n",
      " [ 0.16404589]\n",
      " [ 0.17070793]\n",
      " [ 0.17035206]\n",
      " [ 0.14734837]\n",
      " [ 0.10342244]\n",
      " [ 0.05903249]\n",
      " [ 0.01742578]\n",
      " [-0.01313249]\n",
      " [-0.02227511]\n",
      " [-0.01954331]\n",
      " [-0.01431202]\n",
      " [ 0.04058035]\n",
      " [ 0.04545113]\n",
      " [ 0.07255599]\n",
      " [ 0.09950908]\n",
      " [ 0.13460028]\n",
      " [ 0.15987173]\n",
      " [ 0.16522369]\n",
      " [ 0.16680968]\n",
      " [ 0.1446285 ]\n",
      " [ 0.09805159]\n",
      " [ 0.08653943]\n",
      " [ 0.07328837]\n",
      " [ 0.07842255]\n",
      " [ 0.08475167]\n",
      " [ 0.08832575]\n",
      " [ 0.07911334]\n",
      " [ 0.05895951]\n",
      " [ 0.03130196]\n",
      " [ 0.00641864]\n",
      " [-0.00856379]\n",
      " [-0.0168278 ]\n",
      " [-0.02213846]\n",
      " [-0.06470693]\n",
      " [-0.0860374 ]\n",
      " [-0.09371295]\n",
      " [-0.04813909]\n",
      " [ 0.00203253]\n",
      " [ 0.03490336]\n",
      " [ 0.03544152]\n",
      " [ 0.02600554]\n",
      " [ 0.01831836]\n",
      " [-0.01709499]\n",
      " [-0.06103285]]\n"
     ]
    }
   ],
   "source": [
    "# Extracting and converting the predictions to a NumPy array\n",
    "predictions = x[list(x.keys())[0]].numpy()\n",
    "\n",
    "# Inverse transform the predictions to get the original scale\n",
    "predictions = target_scaler.inverse_transform(predictions)\n",
    "\n",
    "print(predictions)"
   ]
  },
  {
   "cell_type": "code",
   "execution_count": 18,
   "metadata": {},
   "outputs": [
    {
     "data": {
      "text/html": [
       "<div>\n",
       "<style scoped>\n",
       "    .dataframe tbody tr th:only-of-type {\n",
       "        vertical-align: middle;\n",
       "    }\n",
       "\n",
       "    .dataframe tbody tr th {\n",
       "        vertical-align: top;\n",
       "    }\n",
       "\n",
       "    .dataframe thead th {\n",
       "        text-align: right;\n",
       "    }\n",
       "</style>\n",
       "<table border=\"1\" class=\"dataframe\">\n",
       "  <thead>\n",
       "    <tr style=\"text-align: right;\">\n",
       "      <th></th>\n",
       "      <th>prediction</th>\n",
       "      <th>time</th>\n",
       "    </tr>\n",
       "  </thead>\n",
       "  <tbody>\n",
       "    <tr>\n",
       "      <th>24</th>\n",
       "      <td>0.144543</td>\n",
       "      <td>2024-05-26 00:00:00</td>\n",
       "    </tr>\n",
       "    <tr>\n",
       "      <th>25</th>\n",
       "      <td>0.157227</td>\n",
       "      <td>2024-05-26 01:00:00</td>\n",
       "    </tr>\n",
       "    <tr>\n",
       "      <th>26</th>\n",
       "      <td>0.152076</td>\n",
       "      <td>2024-05-26 02:00:00</td>\n",
       "    </tr>\n",
       "    <tr>\n",
       "      <th>27</th>\n",
       "      <td>0.151821</td>\n",
       "      <td>2024-05-26 03:00:00</td>\n",
       "    </tr>\n",
       "    <tr>\n",
       "      <th>28</th>\n",
       "      <td>0.154033</td>\n",
       "      <td>2024-05-26 04:00:00</td>\n",
       "    </tr>\n",
       "    <tr>\n",
       "      <th>...</th>\n",
       "      <td>...</td>\n",
       "      <td>...</td>\n",
       "    </tr>\n",
       "    <tr>\n",
       "      <th>115</th>\n",
       "      <td>0.035442</td>\n",
       "      <td>2024-05-29 19:00:00</td>\n",
       "    </tr>\n",
       "    <tr>\n",
       "      <th>116</th>\n",
       "      <td>0.026006</td>\n",
       "      <td>2024-05-29 20:00:00</td>\n",
       "    </tr>\n",
       "    <tr>\n",
       "      <th>117</th>\n",
       "      <td>0.018318</td>\n",
       "      <td>2024-05-29 21:00:00</td>\n",
       "    </tr>\n",
       "    <tr>\n",
       "      <th>118</th>\n",
       "      <td>-0.017095</td>\n",
       "      <td>2024-05-29 22:00:00</td>\n",
       "    </tr>\n",
       "    <tr>\n",
       "      <th>119</th>\n",
       "      <td>-0.061033</td>\n",
       "      <td>2024-05-29 23:00:00</td>\n",
       "    </tr>\n",
       "  </tbody>\n",
       "</table>\n",
       "<p>96 rows × 2 columns</p>\n",
       "</div>"
      ],
      "text/plain": [
       "     prediction                time\n",
       "24     0.144543 2024-05-26 00:00:00\n",
       "25     0.157227 2024-05-26 01:00:00\n",
       "26     0.152076 2024-05-26 02:00:00\n",
       "27     0.151821 2024-05-26 03:00:00\n",
       "28     0.154033 2024-05-26 04:00:00\n",
       "..          ...                 ...\n",
       "115    0.035442 2024-05-29 19:00:00\n",
       "116    0.026006 2024-05-29 20:00:00\n",
       "117    0.018318 2024-05-29 21:00:00\n",
       "118   -0.017095 2024-05-29 22:00:00\n",
       "119   -0.061033 2024-05-29 23:00:00\n",
       "\n",
       "[96 rows x 2 columns]"
      ]
     },
     "execution_count": 18,
     "metadata": {},
     "output_type": "execute_result"
    }
   ],
   "source": [
    "# Combine predictions with datetime index from new_data (adjust index as needed)\n",
    "predictions_data = {\n",
    "    'prediction': predictions.flatten(),  # Ensure predictions is 1D\n",
    "    'time': new_data['datetime'][24:]  # Adjust index for look_back\n",
    "}\n",
    "\n",
    "# Create a DataFrame from the predictions data\n",
    "predictions_df = pd.DataFrame(predictions_data)\n",
    "\n",
    "# Display the new electricity price predictions\n",
    "predictions_df"
   ]
  },
  {
   "cell_type": "markdown",
   "metadata": {},
   "source": [
    "### <span style=\"color:#2656a3;\">📊 Plot the predictions</span>\n",
    "\n",
    "Now we plot the predictions as a linechart for the comming five days.\n",
    "We are plotting the linechart with both matplotlib and Altair for interactive visualization."
   ]
  },
  {
   "cell_type": "code",
   "execution_count": 19,
   "metadata": {},
   "outputs": [
    {
     "data": {
      "image/png": "[encoded data removed]",
      "text/plain": [
       "<Figure size 1000x600 with 1 Axes>"
      ]
     },
     "metadata": {},
     "output_type": "display_data"
    }
   ],
   "source": [
    "# Importing matplotlib for plotting\n",
    "import matplotlib.pyplot as plt\n",
    "\n",
    "# Group the data by date and calculate the average temperature for each day\n",
    "daily_data = predictions_df.groupby('time')['prediction'].mean()\n",
    " \n",
    "# Create the plot\n",
    "plt.figure(figsize=(10, 6))\n",
    "plt.plot(daily_data.index, daily_data.values)\n",
    "\n",
    "# Adding labels and title\n",
    "plt.title('LSTM Spot Price for DK1')\n",
    "plt.xlabel('Date')\n",
    "plt.ylabel('Spot Price (DKK/kWh)')\n",
    "plt.xticks(rotation=45)\n",
    "plt.grid(True)\n",
    " \n",
    "# Show the plot\n",
    "plt.show()"
   ]
  },
  {
   "cell_type": "code",
   "execution_count": 20,
   "metadata": {},
   "outputs": [
    {
     "name": "stderr",
     "output_type": "stream",
     "text": [
      "DeprecationWarning: jsonschema.RefResolver is deprecated as of v4.18.0, in favor of the https://github.com/python-jsonschema/referencing library, which provides more compliant referencing behavior as well as more flexible APIs for customization. A future release will remove RefResolver. Please file a feature request (on referencing) if you are missing an API for the kind of customization you need.\n",
      "DeprecationWarning: jsonschema.RefResolver is deprecated as of v4.18.0, in favor of the https://github.com/python-jsonschema/referencing library, which provides more compliant referencing behavior as well as more flexible APIs for customization. A future release will remove RefResolver. Please file a feature request (on referencing) if you are missing an API for the kind of customization you need.\n"
     ]
    },
    {
     "data": {
      "text/html": [
       "\n",
       "<div id=\"altair-viz-b3c918054c2f4be8991a4bf4c4ad8d10\"></div>\n",
       "<script type=\"text/javascript\">\n",
       "  var VEGA_DEBUG = (typeof VEGA_DEBUG == \"undefined\") ? {} : VEGA_DEBUG;\n",
       "  (function(spec, embedOpt){\n",
       "    let outputDiv = document.currentScript.previousElementSibling;\n",
       "    if (outputDiv.id !== \"altair-viz-b3c918054c2f4be8991a4bf4c4ad8d10\") {\n",
       "      outputDiv = document.getElementById(\"altair-viz-b3c918054c2f4be8991a4bf4c4ad8d10\");\n",
       "    }\n",
       "    const paths = {\n",
       "      \"vega\": \"https://cdn.jsdelivr.net/npm//vega@5?noext\",\n",
       "      \"vega-lib\": \"https://cdn.jsdelivr.net/npm//vega-lib?noext\",\n",
       "      \"vega-lite\": \"https://cdn.jsdelivr.net/npm//vega-lite@4.17.0?noext\",\n",
       "      \"vega-embed\": \"https://cdn.jsdelivr.net/npm//vega-embed@6?noext\",\n",
       "    };\n",
       "\n",
       "    function maybeLoadScript(lib, version) {\n",
       "      var key = `${lib.replace(\"-\", \"\")}_version`;\n",
       "      return (VEGA_DEBUG[key] == version) ?\n",
       "        Promise.resolve(paths[lib]) :\n",
       "        new Promise(function(resolve, reject) {\n",
       "          var s = document.createElement('script');\n",
       "          document.getElementsByTagName(\"head\")[0].appendChild(s);\n",
       "          s.async = true;\n",
       "          s.onload = () => {\n",
       "            VEGA_DEBUG[key] = version;\n",
       "            return resolve(paths[lib]);\n",
       "          };\n",
       "          s.onerror = () => reject(`Error loading script: ${paths[lib]}`);\n",
       "          s.src = paths[lib];\n",
       "        });\n",
       "    }\n",
       "\n",
       "    function showError(err) {\n",
       "      outputDiv.innerHTML = `<div class=\"error\" style=\"color:red;\">${err}</div>`;\n",
       "      throw err;\n",
       "    }\n",
       "\n",
       "    function displayChart(vegaEmbed) {\n",
       "      vegaEmbed(outputDiv, spec, embedOpt)\n",
       "        .catch(err => showError(`Javascript Error: ${err.message}<br>This usually means there's a typo in your chart specification. See the javascript console for the full traceback.`));\n",
       "    }\n",
       "\n",
       "    if(typeof define === \"function\" && define.amd) {\n",
       "      requirejs.config({paths});\n",
       "      require([\"vega-embed\"], displayChart, err => showError(`Error loading script: ${err.message}`));\n",
       "    } else {\n",
       "      maybeLoadScript(\"vega\", \"5\")\n",
       "        .then(() => maybeLoadScript(\"vega-lite\", \"4.17.0\"))\n",
       "        .then(() => maybeLoadScript(\"vega-embed\", \"6\"))\n",
       "        .catch(showError)\n",
       "        .then(() => displayChart(vegaEmbed));\n",
       "    }\n",
       "  })({\"config\": {\"view\": {\"continuousWidth\": 400, \"continuousHeight\": 300}}, \"data\": {\"name\": \"data-5303a1d61f82f4fea848aa32783da130\"}, \"mark\": {\"type\": \"line\", \"point\": true}, \"encoding\": {\"tooltip\": [{\"field\": \"time\", \"format\": \"%Y-%m-%d\", \"title\": \"Date\", \"type\": \"temporal\"}, {\"field\": \"time\", \"format\": \"%H:%M\", \"title\": \"Time\", \"type\": \"temporal\"}, {\"field\": \"prediction\", \"format\": \".2f\", \"title\": \"Spot Price (DKK)\", \"type\": \"quantitative\"}], \"x\": {\"field\": \"time\", \"type\": \"temporal\"}, \"y\": {\"field\": \"prediction\", \"type\": \"quantitative\"}}, \"selection\": {\"selector001\": {\"type\": \"interval\", \"bind\": \"scales\", \"encodings\": [\"x\", \"y\"]}}, \"$schema\": \"https://vega.github.io/schema/vega-lite/v4.17.0.json\", \"datasets\": {\"data-5303a1d61f82f4fea848aa32783da130\": [{\"prediction\": 0.14454302191734314, \"time\": \"2024-05-26T00:00:00\"}, {\"prediction\": 0.1572265774011612, \"time\": \"2024-05-26T01:00:00\"}, {\"prediction\": 0.15207552909851074, \"time\": \"2024-05-26T02:00:00\"}, {\"prediction\": 0.15182055532932281, \"time\": \"2024-05-26T03:00:00\"}, {\"prediction\": 0.15403279662132263, \"time\": \"2024-05-26T04:00:00\"}, {\"prediction\": 0.14891140162944794, \"time\": \"2024-05-26T05:00:00\"}, {\"prediction\": 0.14150449633598328, \"time\": \"2024-05-26T06:00:00\"}, {\"prediction\": 0.12263689190149307, \"time\": \"2024-05-26T07:00:00\"}, {\"prediction\": 0.08789777755737305, \"time\": \"2024-05-26T08:00:00\"}, {\"prediction\": 0.047181326895952225, \"time\": \"2024-05-26T09:00:00\"}, {\"prediction\": 0.00484486622735858, \"time\": \"2024-05-26T10:00:00\"}, {\"prediction\": -0.025271480903029442, \"time\": \"2024-05-26T11:00:00\"}, {\"prediction\": -0.04370442405343056, \"time\": \"2024-05-26T12:00:00\"}, {\"prediction\": -0.019873594865202904, \"time\": \"2024-05-26T13:00:00\"}, {\"prediction\": 0.027458367869257927, \"time\": \"2024-05-26T14:00:00\"}, {\"prediction\": 0.04649052768945694, \"time\": \"2024-05-26T15:00:00\"}, {\"prediction\": 0.06529125571250916, \"time\": \"2024-05-26T16:00:00\"}, {\"prediction\": 0.0942312628030777, \"time\": \"2024-05-26T17:00:00\"}, {\"prediction\": 0.10909245908260345, \"time\": \"2024-05-26T18:00:00\"}, {\"prediction\": 0.0884484350681305, \"time\": \"2024-05-26T19:00:00\"}, {\"prediction\": 0.12010803818702698, \"time\": \"2024-05-26T20:00:00\"}, {\"prediction\": 0.08581054955720901, \"time\": \"2024-05-26T21:00:00\"}, {\"prediction\": 0.06061993166804314, \"time\": \"2024-05-26T22:00:00\"}, {\"prediction\": 0.07072984427213669, \"time\": \"2024-05-26T23:00:00\"}, {\"prediction\": 0.02373950555920601, \"time\": \"2024-05-27T00:00:00\"}, {\"prediction\": 0.0022962354123592377, \"time\": \"2024-05-27T01:00:00\"}, {\"prediction\": -0.04083859547972679, \"time\": \"2024-05-27T02:00:00\"}, {\"prediction\": -0.004706248175352812, \"time\": \"2024-05-27T03:00:00\"}, {\"prediction\": 0.05443936958909035, \"time\": \"2024-05-27T04:00:00\"}, {\"prediction\": 0.09154365956783295, \"time\": \"2024-05-27T05:00:00\"}, {\"prediction\": 0.11637463420629501, \"time\": \"2024-05-27T06:00:00\"}, {\"prediction\": 0.11630834639072418, \"time\": \"2024-05-27T07:00:00\"}, {\"prediction\": 0.09700754284858704, \"time\": \"2024-05-27T08:00:00\"}, {\"prediction\": 0.08230043947696686, \"time\": \"2024-05-27T09:00:00\"}, {\"prediction\": 0.05099322274327278, \"time\": \"2024-05-27T10:00:00\"}, {\"prediction\": 0.0020322431810200214, \"time\": \"2024-05-27T11:00:00\"}, {\"prediction\": 0.06623761355876923, \"time\": \"2024-05-27T12:00:00\"}, {\"prediction\": -0.025995714589953423, \"time\": \"2024-05-27T13:00:00\"}, {\"prediction\": 0.03931650519371033, \"time\": \"2024-05-27T14:00:00\"}, {\"prediction\": 0.09762362390756607, \"time\": \"2024-05-27T15:00:00\"}, {\"prediction\": 0.2129923403263092, \"time\": \"2024-05-27T16:00:00\"}, {\"prediction\": 0.3086831569671631, \"time\": \"2024-05-27T17:00:00\"}, {\"prediction\": 0.32634562253952026, \"time\": \"2024-05-27T18:00:00\"}, {\"prediction\": 0.3044549226760864, \"time\": \"2024-05-27T19:00:00\"}, {\"prediction\": 0.3284680247306824, \"time\": \"2024-05-27T20:00:00\"}, {\"prediction\": 0.29335036873817444, \"time\": \"2024-05-27T21:00:00\"}, {\"prediction\": 0.24470077455043793, \"time\": \"2024-05-27T22:00:00\"}, {\"prediction\": 0.20861640572547913, \"time\": \"2024-05-27T23:00:00\"}, {\"prediction\": 0.20836810767650604, \"time\": \"2024-05-28T00:00:00\"}, {\"prediction\": 0.2012060135602951, \"time\": \"2024-05-28T01:00:00\"}, {\"prediction\": 0.1825602501630783, \"time\": \"2024-05-28T02:00:00\"}, {\"prediction\": 0.16808107495307922, \"time\": \"2024-05-28T03:00:00\"}, {\"prediction\": 0.16404588520526886, \"time\": \"2024-05-28T04:00:00\"}, {\"prediction\": 0.17070792615413666, \"time\": \"2024-05-28T05:00:00\"}, {\"prediction\": 0.1703520566225052, \"time\": \"2024-05-28T06:00:00\"}, {\"prediction\": 0.14734837412834167, \"time\": \"2024-05-28T07:00:00\"}, {\"prediction\": 0.10342244058847427, \"time\": \"2024-05-28T08:00:00\"}, {\"prediction\": 0.059032488614320755, \"time\": \"2024-05-28T09:00:00\"}, {\"prediction\": 0.017425784841179848, \"time\": \"2024-05-28T10:00:00\"}, {\"prediction\": -0.013132487423717976, \"time\": \"2024-05-28T11:00:00\"}, {\"prediction\": -0.022275110706686974, \"time\": \"2024-05-28T12:00:00\"}, {\"prediction\": -0.01954331248998642, \"time\": \"2024-05-28T13:00:00\"}, {\"prediction\": -0.014312021434307098, \"time\": \"2024-05-28T14:00:00\"}, {\"prediction\": 0.04058035463094711, \"time\": \"2024-05-28T15:00:00\"}, {\"prediction\": 0.04545113071799278, \"time\": \"2024-05-28T16:00:00\"}, {\"prediction\": 0.07255598902702332, \"time\": \"2024-05-28T17:00:00\"}, {\"prediction\": 0.09950907528400421, \"time\": \"2024-05-28T18:00:00\"}, {\"prediction\": 0.13460028171539307, \"time\": \"2024-05-28T19:00:00\"}, {\"prediction\": 0.15987172722816467, \"time\": \"2024-05-28T20:00:00\"}, {\"prediction\": 0.16522368788719177, \"time\": \"2024-05-28T21:00:00\"}, {\"prediction\": 0.16680967807769775, \"time\": \"2024-05-28T22:00:00\"}, {\"prediction\": 0.14462849497795105, \"time\": \"2024-05-28T23:00:00\"}, {\"prediction\": 0.09805159270763397, \"time\": \"2024-05-29T00:00:00\"}, {\"prediction\": 0.08653943240642548, \"time\": \"2024-05-29T01:00:00\"}, {\"prediction\": 0.07328836619853973, \"time\": \"2024-05-29T02:00:00\"}, {\"prediction\": 0.07842254638671875, \"time\": \"2024-05-29T03:00:00\"}, {\"prediction\": 0.0847516730427742, \"time\": \"2024-05-29T04:00:00\"}, {\"prediction\": 0.08832574635744095, \"time\": \"2024-05-29T05:00:00\"}, {\"prediction\": 0.07911334186792374, \"time\": \"2024-05-29T06:00:00\"}, {\"prediction\": 0.058959510177373886, \"time\": \"2024-05-29T07:00:00\"}, {\"prediction\": 0.03130195662379265, \"time\": \"2024-05-29T08:00:00\"}, {\"prediction\": 0.006418643984943628, \"time\": \"2024-05-29T09:00:00\"}, {\"prediction\": -0.008563791401684284, \"time\": \"2024-05-29T10:00:00\"}, {\"prediction\": -0.016827799379825592, \"time\": \"2024-05-29T11:00:00\"}, {\"prediction\": -0.022138461470603943, \"time\": \"2024-05-29T12:00:00\"}, {\"prediction\": -0.06470692902803421, \"time\": \"2024-05-29T13:00:00\"}, {\"prediction\": -0.08603739738464355, \"time\": \"2024-05-29T14:00:00\"}, {\"prediction\": -0.0937129482626915, \"time\": \"2024-05-29T15:00:00\"}, {\"prediction\": -0.04813908785581589, \"time\": \"2024-05-29T16:00:00\"}, {\"prediction\": 0.0020325337536633015, \"time\": \"2024-05-29T17:00:00\"}, {\"prediction\": 0.03490335866808891, \"time\": \"2024-05-29T18:00:00\"}, {\"prediction\": 0.03544151782989502, \"time\": \"2024-05-29T19:00:00\"}, {\"prediction\": 0.026005536317825317, \"time\": \"2024-05-29T20:00:00\"}, {\"prediction\": 0.018318358808755875, \"time\": \"2024-05-29T21:00:00\"}, {\"prediction\": -0.017094988375902176, \"time\": \"2024-05-29T22:00:00\"}, {\"prediction\": -0.061032846570014954, \"time\": \"2024-05-29T23:00:00\"}]}}, {\"mode\": \"vega-lite\"});\n",
       "</script>"
      ],
      "text/plain": [
       "alt.Chart(...)"
      ]
     },
     "execution_count": 20,
     "metadata": {},
     "output_type": "execute_result"
    }
   ],
   "source": [
    "# Importing Altair for interactive visualization\n",
    "import altair as alt\n",
    "\n",
    "# Create Altair chart with line and dots\n",
    "chart = alt.Chart(predictions_df).mark_line(point=True).encode(\n",
    "    x='time:T', \n",
    "    y='prediction:Q', \n",
    "    # Adding tooltips for interactive information display\n",
    "    tooltip=[alt.Tooltip('time:T', title='Date', format='%Y-%m-%d'), \n",
    "             alt.Tooltip('time:T', title='Time', format='%H:%M'), \n",
    "             alt.Tooltip('prediction:Q', title='Spot Price (DKK)', format='.2f')\n",
    "            ]\n",
    ")\n",
    " \n",
    "# Display the chart\n",
    "chart.interactive()"
   ]
  },
  {
   "cell_type": "markdown",
   "metadata": {},
   "source": [
    "---\n",
    "## <span style=\"color:#2656a3;\">⏭️ **Next:** Creating our Python files for a Streamlit application ([link to Github repository](https://github.com/tobiasmj97/bds_m7_second-semester-project_streamlit)) </span>\n"
   ]
  }
 ],
 "metadata": {
  "kernelspec": {
   "display_name": "bds-mlops",
   "language": "python",
   "name": "python3"
  },
  "language_info": {
   "codemirror_mode": {
    "name": "ipython",
    "version": 3
   },
   "file_extension": ".py",
   "mimetype": "text/x-python",
   "name": "python",
   "nbconvert_exporter": "python",
   "pygments_lexer": "ipython3",
   "version": "3.11.8"
  },
  "orig_nbformat": 4
 },
 "nbformat": 4,
 "nbformat_minor": 2
}
