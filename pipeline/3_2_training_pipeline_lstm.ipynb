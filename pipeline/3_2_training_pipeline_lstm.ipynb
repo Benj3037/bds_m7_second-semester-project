{
 "cells": [
  {
   "cell_type": "markdown",
   "metadata": {},
   "source": [
    "# <span style=\"font-width:bold; font-size: 3rem; color:#2656a3;\">**Msc. BDS - M7 Second Semester Project** </span> <span style=\"font-width:bold; font-size: 3rem; color:#333;\">- Part 03: Training Pipeline</span>"
   ]
  },
  {
   "cell_type": "markdown",
   "metadata": {},
   "source": [
    "## <span style='color:#2656a3'> 🗒️ This notebook is divided into the following sections:\n",
    "1. Feature selection.\n",
    "2. Creating a Feature View.\n",
    "3. Training datasets creation - splitting into train and test sets.\n",
    "4. Training the model.\n",
    "5. Register the model to Hopsworks Model Registry."
   ]
  },
  {
   "cell_type": "markdown",
   "metadata": {},
   "source": [
    "## <span style='color:#2656a3'> ⚙️ Import of libraries and packages\n",
    "We start with importing some of the necessary libraries needed for this notebook and warnings to avoid unnecessary distractions and keep output clean."
   ]
  },
  {
   "cell_type": "code",
   "execution_count": 1,
   "metadata": {},
   "outputs": [],
   "source": [
    "# Importing the packages and libraries\n",
    "import pandas as pd\n",
    "import numpy as np\n",
    "from sklearn.preprocessing import MinMaxScaler\n",
    "import matplotlib.pyplot as plt\n",
    "import tensorflow as tf\n",
    "import os\n",
    "\n",
    "# Ignore warnings\n",
    "import warnings\n",
    "warnings.filterwarnings('ignore')\n",
    "warnings.filterwarnings(\"ignore\", category=DeprecationWarning)"
   ]
  },
  {
   "cell_type": "markdown",
   "metadata": {},
   "source": [
    "## <span style=\"color:#2656a3;\"> 📡 Connecting to Hopsworks Feature Store\n",
    "We connect to Hopsworks Feature Store so we can retrieve the Feature Groups and select features for training data."
   ]
  },
  {
   "cell_type": "code",
   "execution_count": 2,
   "metadata": {},
   "outputs": [
    {
     "name": "stdout",
     "output_type": "stream",
     "text": [
      "Connected. Call `.close()` to terminate connection gracefully.\n",
      "\n",
      "Logged in to project, explore it here https://c.app.hopsworks.ai:443/p/554133\n",
      "Connected. Call `.close()` to terminate connection gracefully.\n"
     ]
    }
   ],
   "source": [
    "# Importing the hopsworks module for interacting with the Hopsworks platform\n",
    "import hopsworks\n",
    "\n",
    "# Logging into the Hopsworks project\n",
    "project = hopsworks.login()\n",
    "\n",
    "# Getting the feature store from the project\n",
    "fs = project.get_feature_store() "
   ]
  },
  {
   "cell_type": "code",
   "execution_count": 3,
   "metadata": {},
   "outputs": [],
   "source": [
    "# Retrieve the feature groups\n",
    "electricity_price_fg = fs.get_feature_group(\n",
    "    name='electricity_spot_prices',\n",
    "    version=1,\n",
    ")\n",
    "\n",
    "weather_fg = fs.get_feature_group(\n",
    "    name='weather_measurements',\n",
    "    version=1,\n",
    ")\n",
    "\n",
    "danish_calendar_fg = fs.get_feature_group(\n",
    "    name='calendar_denmark',\n",
    "    version=1,\n",
    ")"
   ]
  },
  {
   "cell_type": "markdown",
   "metadata": {},
   "source": [
    "## <span style=\"color:#2656a3;\"> 🖍 Feature View Creation and Retrieving </span>"
   ]
  },
  {
   "cell_type": "markdown",
   "metadata": {},
   "source": [
    "We first select the features that we want to include for model training.\n",
    "\n",
    "Since we specified `primary_key`as `date` and `timestamp` in `1_feature_backfill` we can now join them together for the `electricity_price_fg`, `weather_fg` and `danish_calendar_fg`.\n",
    "\n",
    "`join_type` specifies the type of join to perform. An inner join refers to only retaining the rows based on the keys present in all joined DataFrames."
   ]
  },
  {
   "cell_type": "code",
   "execution_count": 4,
   "metadata": {},
   "outputs": [],
   "source": [
    "# Select features for training data and join them together and except duplicate columns\n",
    "selected_features = electricity_price_fg.select_all()\\\n",
    "    .join(weather_fg.select_except([\"timestamp\", \"datetime\", \"hour\", \"date\"]), join_type=\"inner\")\\\n",
    "    .join(danish_calendar_fg.select_except([\"timestamp\", \"datetime\", \"hour\", \"date\"]), join_type=\"inner\")"
   ]
  },
  {
   "cell_type": "code",
   "execution_count": 5,
   "metadata": {},
   "outputs": [
    {
     "name": "stdout",
     "output_type": "stream",
     "text": [
      "Finished: Reading data from Hopsworks, using ArrowFlight (4.96s) \n"
     ]
    },
    {
     "data": {
      "text/html": [
       "<div>\n",
       "<style scoped>\n",
       "    .dataframe tbody tr th:only-of-type {\n",
       "        vertical-align: middle;\n",
       "    }\n",
       "\n",
       "    .dataframe tbody tr th {\n",
       "        vertical-align: top;\n",
       "    }\n",
       "\n",
       "    .dataframe thead th {\n",
       "        text-align: right;\n",
       "    }\n",
       "</style>\n",
       "<table border=\"1\" class=\"dataframe\">\n",
       "  <thead>\n",
       "    <tr style=\"text-align: right;\">\n",
       "      <th></th>\n",
       "      <th>timestamp</th>\n",
       "      <th>datetime</th>\n",
       "      <th>date</th>\n",
       "      <th>hour</th>\n",
       "      <th>dk1_spotpricedkk_kwh</th>\n",
       "      <th>temperature_2m</th>\n",
       "      <th>relative_humidity_2m</th>\n",
       "      <th>precipitation</th>\n",
       "      <th>rain</th>\n",
       "      <th>snowfall</th>\n",
       "      <th>weather_code</th>\n",
       "      <th>cloud_cover</th>\n",
       "      <th>wind_speed_10m</th>\n",
       "      <th>wind_gusts_10m</th>\n",
       "      <th>dayofweek</th>\n",
       "      <th>day</th>\n",
       "      <th>month</th>\n",
       "      <th>year</th>\n",
       "      <th>workday</th>\n",
       "    </tr>\n",
       "  </thead>\n",
       "  <tbody>\n",
       "    <tr>\n",
       "      <th>0</th>\n",
       "      <td>1688745600000</td>\n",
       "      <td>2023-07-07 16:00:00+00:00</td>\n",
       "      <td>2023-07-07 00:00:00+00:00</td>\n",
       "      <td>16</td>\n",
       "      <td>0.59802</td>\n",
       "      <td>20.3</td>\n",
       "      <td>57.0</td>\n",
       "      <td>0.0</td>\n",
       "      <td>0.0</td>\n",
       "      <td>0.0</td>\n",
       "      <td>0.0</td>\n",
       "      <td>17.0</td>\n",
       "      <td>17.4</td>\n",
       "      <td>35.3</td>\n",
       "      <td>4</td>\n",
       "      <td>7</td>\n",
       "      <td>7</td>\n",
       "      <td>2023</td>\n",
       "      <td>1</td>\n",
       "    </tr>\n",
       "    <tr>\n",
       "      <th>1</th>\n",
       "      <td>1660867200000</td>\n",
       "      <td>2022-08-19 00:00:00+00:00</td>\n",
       "      <td>2022-08-19 00:00:00+00:00</td>\n",
       "      <td>0</td>\n",
       "      <td>3.79462</td>\n",
       "      <td>12.8</td>\n",
       "      <td>95.0</td>\n",
       "      <td>0.0</td>\n",
       "      <td>0.0</td>\n",
       "      <td>0.0</td>\n",
       "      <td>1.0</td>\n",
       "      <td>26.0</td>\n",
       "      <td>4.2</td>\n",
       "      <td>13.3</td>\n",
       "      <td>4</td>\n",
       "      <td>19</td>\n",
       "      <td>8</td>\n",
       "      <td>2022</td>\n",
       "      <td>1</td>\n",
       "    </tr>\n",
       "    <tr>\n",
       "      <th>2</th>\n",
       "      <td>1580461200000</td>\n",
       "      <td>2020-01-31 09:00:00+00:00</td>\n",
       "      <td>2020-01-31 00:00:00+00:00</td>\n",
       "      <td>9</td>\n",
       "      <td>0.14847</td>\n",
       "      <td>7.5</td>\n",
       "      <td>86.0</td>\n",
       "      <td>0.0</td>\n",
       "      <td>0.0</td>\n",
       "      <td>0.0</td>\n",
       "      <td>3.0</td>\n",
       "      <td>81.0</td>\n",
       "      <td>22.9</td>\n",
       "      <td>45.7</td>\n",
       "      <td>4</td>\n",
       "      <td>31</td>\n",
       "      <td>1</td>\n",
       "      <td>2020</td>\n",
       "      <td>1</td>\n",
       "    </tr>\n",
       "    <tr>\n",
       "      <th>3</th>\n",
       "      <td>1582524000000</td>\n",
       "      <td>2020-02-24 06:00:00+00:00</td>\n",
       "      <td>2020-02-24 00:00:00+00:00</td>\n",
       "      <td>6</td>\n",
       "      <td>0.20198</td>\n",
       "      <td>3.2</td>\n",
       "      <td>79.0</td>\n",
       "      <td>0.0</td>\n",
       "      <td>0.0</td>\n",
       "      <td>0.0</td>\n",
       "      <td>0.0</td>\n",
       "      <td>4.0</td>\n",
       "      <td>20.2</td>\n",
       "      <td>40.7</td>\n",
       "      <td>0</td>\n",
       "      <td>24</td>\n",
       "      <td>2</td>\n",
       "      <td>2020</td>\n",
       "      <td>1</td>\n",
       "    </tr>\n",
       "    <tr>\n",
       "      <th>4</th>\n",
       "      <td>1677834000000</td>\n",
       "      <td>2023-03-03 09:00:00+00:00</td>\n",
       "      <td>2023-03-03 00:00:00+00:00</td>\n",
       "      <td>9</td>\n",
       "      <td>1.23875</td>\n",
       "      <td>1.5</td>\n",
       "      <td>96.0</td>\n",
       "      <td>0.0</td>\n",
       "      <td>0.0</td>\n",
       "      <td>0.0</td>\n",
       "      <td>3.0</td>\n",
       "      <td>95.0</td>\n",
       "      <td>13.6</td>\n",
       "      <td>21.6</td>\n",
       "      <td>4</td>\n",
       "      <td>3</td>\n",
       "      <td>3</td>\n",
       "      <td>2023</td>\n",
       "      <td>1</td>\n",
       "    </tr>\n",
       "  </tbody>\n",
       "</table>\n",
       "</div>"
      ],
      "text/plain": [
       "       timestamp                  datetime                      date  hour  \\\n",
       "0  1688745600000 2023-07-07 16:00:00+00:00 2023-07-07 00:00:00+00:00    16   \n",
       "1  1660867200000 2022-08-19 00:00:00+00:00 2022-08-19 00:00:00+00:00     0   \n",
       "2  1580461200000 2020-01-31 09:00:00+00:00 2020-01-31 00:00:00+00:00     9   \n",
       "3  1582524000000 2020-02-24 06:00:00+00:00 2020-02-24 00:00:00+00:00     6   \n",
       "4  1677834000000 2023-03-03 09:00:00+00:00 2023-03-03 00:00:00+00:00     9   \n",
       "\n",
       "   dk1_spotpricedkk_kwh  temperature_2m  relative_humidity_2m  precipitation  \\\n",
       "0               0.59802            20.3                  57.0            0.0   \n",
       "1               3.79462            12.8                  95.0            0.0   \n",
       "2               0.14847             7.5                  86.0            0.0   \n",
       "3               0.20198             3.2                  79.0            0.0   \n",
       "4               1.23875             1.5                  96.0            0.0   \n",
       "\n",
       "   rain  snowfall  weather_code  cloud_cover  wind_speed_10m  wind_gusts_10m  \\\n",
       "0   0.0       0.0           0.0         17.0            17.4            35.3   \n",
       "1   0.0       0.0           1.0         26.0             4.2            13.3   \n",
       "2   0.0       0.0           3.0         81.0            22.9            45.7   \n",
       "3   0.0       0.0           0.0          4.0            20.2            40.7   \n",
       "4   0.0       0.0           3.0         95.0            13.6            21.6   \n",
       "\n",
       "   dayofweek  day  month  year  workday  \n",
       "0          4    7      7  2023        1  \n",
       "1          4   19      8  2022        1  \n",
       "2          4   31      1  2020        1  \n",
       "3          0   24      2  2020        1  \n",
       "4          4    3      3  2023        1  "
      ]
     },
     "execution_count": 5,
     "metadata": {},
     "output_type": "execute_result"
    }
   ],
   "source": [
    "# Display the first 5 rows of the selected features\n",
    "selected_features.show(5)"
   ]
  },
  {
   "cell_type": "markdown",
   "metadata": {},
   "source": [
    "A `Feature View` stands between the **Feature Groups** and **Training Dataset**. Сombining **Feature Groups** we can create a **Feature View** which stores a metadata of our data. Having the **Feature View** we can create a **Training Dataset**.\n",
    "\n",
    "In order to create Feature View we can use `fs.get_or_create_feature_view()` method.\n",
    "\n",
    "We can specify parameters:\n",
    "\n",
    "- `name` - Name of the feature view to create.\n",
    "- `version` - Version of the feature view to create.\n",
    "- `query` - Query object with the data."
   ]
  },
  {
   "cell_type": "code",
   "execution_count": 6,
   "metadata": {},
   "outputs": [],
   "source": [
    "# Getting or creating a feature view named 'electricity_price_feature_view'\n",
    "version=1\n",
    "electricity_price_fw = fs.get_or_create_feature_view(\n",
    "    name='lstm_electricity_price_feature_view',\n",
    "    version=version,\n",
    "    query=selected_features,\n",
    ")"
   ]
  },
  {
   "cell_type": "code",
   "execution_count": 7,
   "metadata": {},
   "outputs": [
    {
     "name": "stdout",
     "output_type": "stream",
     "text": [
      "SELECT `fg2`.`timestamp` `timestamp`, `fg2`.`datetime` `datetime`, `fg2`.`date` `date`, `fg2`.`hour` `hour`, `fg2`.`dk1_spotpricedkk_kwh` `dk1_spotpricedkk_kwh`, `fg0`.`temperature_2m` `temperature_2m`, `fg0`.`relative_humidity_2m` `relative_humidity_2m`, `fg0`.`precipitation` `precipitation`, `fg0`.`rain` `rain`, `fg0`.`snowfall` `snowfall`, `fg0`.`weather_code` `weather_code`, `fg0`.`cloud_cover` `cloud_cover`, `fg0`.`wind_speed_10m` `wind_speed_10m`, `fg0`.`wind_gusts_10m` `wind_gusts_10m`, `fg1`.`dayofweek` `dayofweek`, `fg1`.`day` `day`, `fg1`.`month` `month`, `fg1`.`year` `year`, `fg1`.`workday` `workday`\n",
      "FROM `tobiasmj_featurestore`.`electricity_spot_prices_1` `fg2`\n",
      "INNER JOIN `tobiasmj_featurestore`.`weather_measurements_1` `fg0` ON `fg2`.`timestamp` = `fg0`.`timestamp` AND `fg2`.`date` = `fg0`.`date`\n",
      "INNER JOIN `tobiasmj_featurestore`.`calendar_denmark_1` `fg1` ON `fg2`.`date` = `fg1`.`date`\n"
     ]
    }
   ],
   "source": [
    "# Print the feature view as a string format\n",
    "print(electricity_price_fw.query.to_string())"
   ]
  },
  {
   "cell_type": "markdown",
   "metadata": {},
   "source": [
    "## <span style=\"color:#2656a3;\"> 🏋️ Training Dataset Creation</span>\n",
    "\n",
    "In Hopsworks, a training dataset is generated from a query defined by the parent FeatureView, which determines the set of features.\n",
    "\n",
    "**Training Dataset may contain splits such as:** \n",
    "* Training set: This subset of the training data is utilized for model training.\n",
    "* Validation set: Used for evaluating hyperparameters during model training. *(We have not included a validation set for this project)*\n",
    "* Test set: Reserved as a holdout subset of training data for evaluating a trained model's performance.\n",
    "\n",
    "Training dataset is created using `fs.training_data()` method."
   ]
  },
  {
   "cell_type": "code",
   "execution_count": 8,
   "metadata": {},
   "outputs": [
    {
     "name": "stdout",
     "output_type": "stream",
     "text": [
      "Finished: Reading data from Hopsworks, using ArrowFlight (4.67s) \n"
     ]
    },
    {
     "name": "stderr",
     "output_type": "stream",
     "text": [
      "VersionWarning: Incremented version to `3`.\n"
     ]
    }
   ],
   "source": [
    "# Retrieve training data from the feature view 'feature_view_training', assigning the features to 'X'.\n",
    "df, _ = electricity_price_fw.training_data(\n",
    "    description = 'LSTM Electricity Prices Training Dataset',\n",
    ")"
   ]
  },
  {
   "cell_type": "code",
   "execution_count": 9,
   "metadata": {},
   "outputs": [
    {
     "name": "stdout",
     "output_type": "stream",
     "text": [
      "<class 'pandas.core.frame.DataFrame'>\n",
      "RangeIndex: 38526 entries, 0 to 38525\n",
      "Data columns (total 19 columns):\n",
      " #   Column                Non-Null Count  Dtype         \n",
      "---  ------                --------------  -----         \n",
      " 0   timestamp             38526 non-null  int64         \n",
      " 1   datetime              38526 non-null  datetime64[ns]\n",
      " 2   date                  38526 non-null  datetime64[ns]\n",
      " 3   hour                  38526 non-null  int64         \n",
      " 4   dk1_spotpricedkk_kwh  38526 non-null  float64       \n",
      " 5   temperature_2m        38526 non-null  float64       \n",
      " 6   relative_humidity_2m  38526 non-null  float64       \n",
      " 7   precipitation         38526 non-null  float64       \n",
      " 8   rain                  38526 non-null  float64       \n",
      " 9   snowfall              38526 non-null  float64       \n",
      " 10  weather_code          38526 non-null  float64       \n",
      " 11  cloud_cover           38526 non-null  float64       \n",
      " 12  wind_speed_10m        38526 non-null  float64       \n",
      " 13  wind_gusts_10m        38526 non-null  float64       \n",
      " 14  dayofweek             38526 non-null  int64         \n",
      " 15  day                   38526 non-null  int64         \n",
      " 16  month                 38526 non-null  int64         \n",
      " 17  year                  38526 non-null  int64         \n",
      " 18  workday               38526 non-null  int64         \n",
      "dtypes: datetime64[ns](2), float64(10), int64(7)\n",
      "memory usage: 5.6 MB\n"
     ]
    }
   ],
   "source": [
    "# Convert the 'date' and 'datetime' columns to datetime objects\n",
    "df['date'] = pd.to_datetime(df['date']).dt.strftime(\"%Y-%m-%d\")\n",
    "df['datetime'] = pd.to_datetime(df['datetime']).dt.strftime('%Y-%m-%d %H:%M:%S')\n",
    "\n",
    "df['date'] = pd.to_datetime(df['date'])\n",
    "df['datetime'] = pd.to_datetime(df['datetime'])\n",
    "\n",
    "# Show information about the dataframe to confirm the adjustments\n",
    "df.info()"
   ]
  },
  {
   "cell_type": "code",
   "execution_count": 10,
   "metadata": {},
   "outputs": [
    {
     "data": {
      "text/html": [
       "<div>\n",
       "<style scoped>\n",
       "    .dataframe tbody tr th:only-of-type {\n",
       "        vertical-align: middle;\n",
       "    }\n",
       "\n",
       "    .dataframe tbody tr th {\n",
       "        vertical-align: top;\n",
       "    }\n",
       "\n",
       "    .dataframe thead th {\n",
       "        text-align: right;\n",
       "    }\n",
       "</style>\n",
       "<table border=\"1\" class=\"dataframe\">\n",
       "  <thead>\n",
       "    <tr style=\"text-align: right;\">\n",
       "      <th></th>\n",
       "      <th>timestamp</th>\n",
       "      <th>datetime</th>\n",
       "      <th>date</th>\n",
       "      <th>hour</th>\n",
       "      <th>dk1_spotpricedkk_kwh</th>\n",
       "      <th>temperature_2m</th>\n",
       "      <th>relative_humidity_2m</th>\n",
       "      <th>precipitation</th>\n",
       "      <th>rain</th>\n",
       "      <th>snowfall</th>\n",
       "      <th>weather_code</th>\n",
       "      <th>cloud_cover</th>\n",
       "      <th>wind_speed_10m</th>\n",
       "      <th>wind_gusts_10m</th>\n",
       "      <th>dayofweek</th>\n",
       "      <th>day</th>\n",
       "      <th>month</th>\n",
       "      <th>year</th>\n",
       "      <th>workday</th>\n",
       "    </tr>\n",
       "  </thead>\n",
       "  <tbody>\n",
       "    <tr>\n",
       "      <th>0</th>\n",
       "      <td>1577836800000</td>\n",
       "      <td>2020-01-01 00:00:00</td>\n",
       "      <td>2020-01-01</td>\n",
       "      <td>0</td>\n",
       "      <td>0.24965</td>\n",
       "      <td>4.9</td>\n",
       "      <td>90.0</td>\n",
       "      <td>0.0</td>\n",
       "      <td>0.0</td>\n",
       "      <td>0.0</td>\n",
       "      <td>1.0</td>\n",
       "      <td>25.0</td>\n",
       "      <td>18.4</td>\n",
       "      <td>33.8</td>\n",
       "      <td>2</td>\n",
       "      <td>1</td>\n",
       "      <td>1</td>\n",
       "      <td>2020</td>\n",
       "      <td>0</td>\n",
       "    </tr>\n",
       "    <tr>\n",
       "      <th>1</th>\n",
       "      <td>1577840400000</td>\n",
       "      <td>2020-01-01 01:00:00</td>\n",
       "      <td>2020-01-01</td>\n",
       "      <td>1</td>\n",
       "      <td>0.23733</td>\n",
       "      <td>4.9</td>\n",
       "      <td>91.0</td>\n",
       "      <td>0.0</td>\n",
       "      <td>0.0</td>\n",
       "      <td>0.0</td>\n",
       "      <td>0.0</td>\n",
       "      <td>15.0</td>\n",
       "      <td>18.0</td>\n",
       "      <td>35.3</td>\n",
       "      <td>2</td>\n",
       "      <td>1</td>\n",
       "      <td>1</td>\n",
       "      <td>2020</td>\n",
       "      <td>0</td>\n",
       "    </tr>\n",
       "    <tr>\n",
       "      <th>2</th>\n",
       "      <td>1577844000000</td>\n",
       "      <td>2020-01-01 02:00:00</td>\n",
       "      <td>2020-01-01</td>\n",
       "      <td>2</td>\n",
       "      <td>0.23583</td>\n",
       "      <td>4.8</td>\n",
       "      <td>92.0</td>\n",
       "      <td>0.0</td>\n",
       "      <td>0.0</td>\n",
       "      <td>0.0</td>\n",
       "      <td>2.0</td>\n",
       "      <td>51.0</td>\n",
       "      <td>19.0</td>\n",
       "      <td>36.4</td>\n",
       "      <td>2</td>\n",
       "      <td>1</td>\n",
       "      <td>1</td>\n",
       "      <td>2020</td>\n",
       "      <td>0</td>\n",
       "    </tr>\n",
       "    <tr>\n",
       "      <th>3</th>\n",
       "      <td>1577847600000</td>\n",
       "      <td>2020-01-01 03:00:00</td>\n",
       "      <td>2020-01-01</td>\n",
       "      <td>3</td>\n",
       "      <td>0.23366</td>\n",
       "      <td>5.1</td>\n",
       "      <td>91.0</td>\n",
       "      <td>0.0</td>\n",
       "      <td>0.0</td>\n",
       "      <td>0.0</td>\n",
       "      <td>2.0</td>\n",
       "      <td>77.0</td>\n",
       "      <td>21.1</td>\n",
       "      <td>41.0</td>\n",
       "      <td>2</td>\n",
       "      <td>1</td>\n",
       "      <td>1</td>\n",
       "      <td>2020</td>\n",
       "      <td>0</td>\n",
       "    </tr>\n",
       "    <tr>\n",
       "      <th>4</th>\n",
       "      <td>1577851200000</td>\n",
       "      <td>2020-01-01 04:00:00</td>\n",
       "      <td>2020-01-01</td>\n",
       "      <td>4</td>\n",
       "      <td>0.23045</td>\n",
       "      <td>5.4</td>\n",
       "      <td>88.0</td>\n",
       "      <td>0.0</td>\n",
       "      <td>0.0</td>\n",
       "      <td>0.0</td>\n",
       "      <td>3.0</td>\n",
       "      <td>100.0</td>\n",
       "      <td>21.5</td>\n",
       "      <td>42.8</td>\n",
       "      <td>2</td>\n",
       "      <td>1</td>\n",
       "      <td>1</td>\n",
       "      <td>2020</td>\n",
       "      <td>0</td>\n",
       "    </tr>\n",
       "  </tbody>\n",
       "</table>\n",
       "</div>"
      ],
      "text/plain": [
       "       timestamp            datetime       date  hour  dk1_spotpricedkk_kwh  \\\n",
       "0  1577836800000 2020-01-01 00:00:00 2020-01-01     0               0.24965   \n",
       "1  1577840400000 2020-01-01 01:00:00 2020-01-01     1               0.23733   \n",
       "2  1577844000000 2020-01-01 02:00:00 2020-01-01     2               0.23583   \n",
       "3  1577847600000 2020-01-01 03:00:00 2020-01-01     3               0.23366   \n",
       "4  1577851200000 2020-01-01 04:00:00 2020-01-01     4               0.23045   \n",
       "\n",
       "   temperature_2m  relative_humidity_2m  precipitation  rain  snowfall  \\\n",
       "0             4.9                  90.0            0.0   0.0       0.0   \n",
       "1             4.9                  91.0            0.0   0.0       0.0   \n",
       "2             4.8                  92.0            0.0   0.0       0.0   \n",
       "3             5.1                  91.0            0.0   0.0       0.0   \n",
       "4             5.4                  88.0            0.0   0.0       0.0   \n",
       "\n",
       "   weather_code  cloud_cover  wind_speed_10m  wind_gusts_10m  dayofweek  day  \\\n",
       "0           1.0         25.0            18.4            33.8          2    1   \n",
       "1           0.0         15.0            18.0            35.3          2    1   \n",
       "2           2.0         51.0            19.0            36.4          2    1   \n",
       "3           2.0         77.0            21.1            41.0          2    1   \n",
       "4           3.0        100.0            21.5            42.8          2    1   \n",
       "\n",
       "   month  year  workday  \n",
       "0      1  2020        0  \n",
       "1      1  2020        0  \n",
       "2      1  2020        0  \n",
       "3      1  2020        0  \n",
       "4      1  2020        0  "
      ]
     },
     "execution_count": 10,
     "metadata": {},
     "output_type": "execute_result"
    }
   ],
   "source": [
    "# Sorting the dataframe by timestamp for better performance for temporal models\n",
    "df.sort_values(by='timestamp', ascending=True, inplace=True)\n",
    "\n",
    "# Resetting the index of the dataframe\n",
    "df = df.reset_index(drop=True)\n",
    "\n",
    "# Display the first 5 rows of the training data\n",
    "df.head(5)"
   ]
  },
  {
   "cell_type": "markdown",
   "metadata": {},
   "source": [
    "#### <span style=\"color:#2656a3;\">👆 Feature Selection and Preprocessing</span>"
   ]
  },
  {
   "cell_type": "code",
   "execution_count": 11,
   "metadata": {},
   "outputs": [
    {
     "name": "stderr",
     "output_type": "stream",
     "text": [
      "DeprecationWarning: np.find_common_type is deprecated.  Please use `np.result_type` or `np.promote_types`.\n",
      "See https://numpy.org/devdocs/release/1.25.0-notes.html and the docs for more information.  (Deprecated NumPy 1.25)\n",
      "DeprecationWarning: np.find_common_type is deprecated.  Please use `np.result_type` or `np.promote_types`.\n",
      "See https://numpy.org/devdocs/release/1.25.0-notes.html and the docs for more information.  (Deprecated NumPy 1.25)\n",
      "DeprecationWarning: np.find_common_type is deprecated.  Please use `np.result_type` or `np.promote_types`.\n",
      "See https://numpy.org/devdocs/release/1.25.0-notes.html and the docs for more information.  (Deprecated NumPy 1.25)\n"
     ]
    }
   ],
   "source": [
    "# Select features and target\n",
    "features = df.drop(columns=['dk1_spotpricedkk_kwh','datetime','date','timestamp'])\n",
    "target = df['dk1_spotpricedkk_kwh']\n",
    "\n",
    "# Normalize the features\n",
    "scaler = MinMaxScaler() \n",
    "features_scaled = scaler.fit_transform(features)\n",
    "\n",
    "# Normalize the target\n",
    "target = target.values.reshape(-1, 1)\n",
    "target_scaler = MinMaxScaler()\n",
    "target_scaled = target_scaler.fit_transform(target)\n",
    "\n",
    "# Convert back to DataFrame for easier handling\n",
    "features_scaled = pd.DataFrame(features_scaled, index=features.index, columns=features.columns)\n",
    "target_scaled = pd.DataFrame(target_scaled, index=features.index, columns=['dk1_spotpricedkk_kwh'])"
   ]
  },
  {
   "cell_type": "markdown",
   "metadata": {},
   "source": [
    "#### <span style=\"color:#2656a3;\"> ⛳️ Dataset with train and test splits</span>\n",
    "\n",
    "Here we define our train and test splits for traning the model.\n",
    "\n",
    "Create Sequences for X and y\n",
    "\n",
    "The function iterates over the dataset to create overlapping sequences of features and their corresponding target values.\n"
   ]
  },
  {
   "cell_type": "code",
   "execution_count": 12,
   "metadata": {},
   "outputs": [],
   "source": [
    "# Define a function to create sequences for the LSTM\n",
    "def create_sequences(features, target, time_steps=24):\n",
    "    X, y = [], []\n",
    "    for i in range(len(features) - time_steps):\n",
    "        X.append(features.iloc[i:i+time_steps].values)\n",
    "        y.append(target.iloc[i+time_steps].values)\n",
    "    return np.array(X), np.array(y)\n",
    "\n",
    "time_steps = 24  # Use the past 24 hours to predict the next hour\n",
    "X, y = create_sequences(features_scaled, target_scaled, time_steps)"
   ]
  },
  {
   "cell_type": "code",
   "execution_count": 13,
   "metadata": {},
   "outputs": [],
   "source": [
    "# Defining the size of the training set as 80% of the data\n",
    "train_size = int(len(X) * 0.8)\n",
    "\n",
    "# Defining the size of the test set as the remaining 20% of the data\n",
    "X_train, X_test = X[:train_size], X[train_size:]\n",
    "y_train, y_test = y[:train_size], y[train_size:]"
   ]
  },
  {
   "cell_type": "markdown",
   "metadata": {},
   "source": [
    "## <span style=\"color:#2656a3;\">🧬 Modeling</span>"
   ]
  },
  {
   "cell_type": "markdown",
   "metadata": {},
   "source": [
    "A `hybrid Conv1D-Bidirectional LSTM model` for time series analysis because it leverages the strengths of both convolutional neural networks `(CNNs)` and recurrent neural networks `(RNNs)`. The Conv1D layers efficiently capture local patterns and features in the time series data through convolution operations. Meanwhile, the `Bidirectional LSTM layers` excel at understanding temporal dependencies and relationships by processing data in both forward and backward directions. This combination enhances the model's ability to learn intricate patterns and long-term dependencies, improving accuracy and performance in time series forecasting tasks"
   ]
  },
  {
   "cell_type": "markdown",
   "metadata": {},
   "source": [
    "1. Creating a Sequential Model\n",
    "\n",
    "    <code> model = Sequential() </code>\n",
    "\n",
    "* Purpose: Initializes a Sequential model, which is a linear stack of layers.\n",
    "\n",
    "2. Adding the First Conv1D Layer\n",
    "\n",
    "    <code> model.add(Conv1D(filters=64, kernel_size=1, padding='same', kernel_initializer=\"uniform\", input_shape=(input_dim[0], input_dim[1])))\n",
    "    </code>\n",
    "\n",
    "* Conv1D Layer: Adds a 1D convolutional layer with 64 filters and a kernel size of 1.\n",
    "* Parameters\n",
    "    * `filters=64`: Number of filters (feature detectors) in the convolutional layer.\n",
    "    * `kernel_size=1`: Size of the convolution kernel. A kernel size of 1 detects very short-term patterns.\n",
    "    * `padding='same'`: Ensures that the output has the same length as the input by padding the input appropriately.\n",
    "    * `kernel_initializer=\"uniform\"`: Initializes the weights uniformly.\n",
    "    * `input_shape=(input_dim[0], input_dim[1])`: Specifies the shape of the input data.\n",
    "\n",
    "3. Adding Batch Normalization and LeakyReLU\n",
    "\n",
    "    <code> model.add(BatchNormalization()) </code>\n",
    "    \n",
    "    <code> model.add(LeakyReLU(alpha=0.2)) </code>\n",
    "* BatchNormalization: Normalizes the activations of the previous layer to improve training speed and stability.\n",
    "* LeakyReLU: Activation function allowing a small gradient when the unit is not active (negative inputs) to prevent the dying ReLU problem. The `alpha=0.2` sets the slope for negative values.\n",
    "\n",
    "4. Adding the Second Conv1D Layer\n",
    "    \n",
    "    <code> model.add(Conv1D(filters=32, kernel_size=1, padding='same', kernel_initializer=\"uniform\")) </code>\n",
    "\n",
    "    <code> model.add(BatchNormalization()) </code>\n",
    "\n",
    "    <code> model.add(LeakyReLU(alpha=0.2)) </code>\n",
    "\n",
    "* Purpose: Another convolutional layer with 32 filters to detect patterns with reduced complexity compared to the first layer. Batch normalization and LeakyReLU are added for the same reasons as the first layer.\n",
    "\n",
    "5. Adding the Third Conv1D Layer\n",
    "    \n",
    "    <code> model.add(Conv1D(filters=32, kernel_size=1, padding='same', kernel_initializer=\"uniform\")) </code>\n",
    "\n",
    "    <code> model.add(BatchNormalization()) </code>\n",
    "\n",
    "    <code> model.add(LeakyReLU(alpha=0.2)) </code>\n",
    "\n",
    "* Purpose: Yet another convolutional layer with even fewer filters (16) to capture finer details. Batch normalization and LeakyReLU are applied again.\n",
    "\n",
    "6. Adding MaxPooling1D Layer\n",
    "\n",
    "    <code> model.add(MaxPooling1D(pool_size=1, padding='same')) </code>\n",
    "\n",
    "* MaxPooling1D: Downsamples the input representation by taking the maximum value over a pool size of 1. This layer reduces the spatial dimensions of the input, helping to control overfitting and reduce computation.\n",
    "\n",
    "7. Adding a Bidirectional LSTM Layer\n",
    "\n",
    "    <code> model.add(Bidirectional(LSTM(units=50, return_sequences=True))) </code>\n",
    "\n",
    "    <code> model.add(Dropout(rate=0.1)) </code>\n",
    "\n",
    "* Bidirectional LSTM: LSTM layer that processes the input sequence in both forward and backward directions to capture dependencies from both past and future contexts.\n",
    "    * `units=50`: Number of LSTM units.\n",
    "    * `return_sequences=True`: Ensures that the LSTM returns the full sequence of outputs for each input sequence, which is necessary for stacking another LSTM layer.\n",
    "* Dropout: Regularization technique to prevent overfitting by randomly setting a fraction (10%) of input units to 0 at each update during training.\n",
    "\n",
    "8. Adding a Second LSTM Layer\n",
    "\n",
    "    <code> model.add(LSTM(units=50, return_sequences=False)) </code>\n",
    "\n",
    "* LSTM Layer: Processes the sequence and returns the output of the last time step.\n",
    "    * `units=50`: Number of LSTM units.\n",
    "    * `return_sequences=False`: Ensures that the LSTM returns only the last output in the output sequence.\n",
    "\n",
    "9. Adding a Dense Layer\n",
    "\n",
    "    <code> model.add(Dense(units=1)) </code>\n",
    "\n",
    "* Dense Layer: Fully connected layer with 1 unit to produce the final output."
   ]
  },
  {
   "cell_type": "markdown",
   "metadata": {},
   "source": [
    "### <span style=\"color:#2656a3;\">🏠 Model Building</span>"
   ]
  },
  {
   "cell_type": "code",
   "execution_count": null,
   "metadata": {},
   "outputs": [],
   "source": [
    "import tensorflow as tf\n",
    "from tensorflow.keras.models import Sequential\n",
    "from tensorflow.keras.layers import LSTM, Dense, Conv1D, BatchNormalization, LeakyReLU, MaxPooling1D, Bidirectional, Dropout\n",
    "\n",
    "def build_model(input_dim):\n",
    "    # Creating a Sequential model\n",
    "    model = Sequential()\n",
    "\n",
    "    # Adding a 1D convolutional layer\n",
    "    model.add(Conv1D(filters=64, # Number of filters for the convolutional layer\n",
    "                     kernel_size=1, # kernel size to detect patterns over short periods.\n",
    "                     padding='same', # padding to ensure the output has the same length as the input\n",
    "                     kernel_initializer=\"uniform\", # kernel initializer\n",
    "                     input_shape=(input_dim[0], input_dim[1]))) # input shape\n",
    "    model.add(BatchNormalization()) # normalize the activations of the previous layer at each batch\n",
    "    model.add(LeakyReLU(alpha=0.2)) #  type of activation function based on a ReLU, but it has a small slope for negative values instead of a flat slope.\n",
    "\n",
    "    # Adding 1D convolutional layer\n",
    "    model.add(Conv1D(filters=32, # smaller number of filters for\n",
    "                     kernel_size=1, \n",
    "                     padding='same', \n",
    "                     kernel_initializer=\"uniform\"))\n",
    "    model.add(BatchNormalization())\n",
    "    model.add(LeakyReLU(alpha=0.2)) # alpha 0.2 that is used to control the amount of leakage\n",
    "\n",
    "    # Adding 1D convolutional layer\n",
    "    model.add(Conv1D(filters=16, \n",
    "                     kernel_size=1, \n",
    "                     padding='same', \n",
    "                     kernel_initializer=\"uniform\"))\n",
    "    model.add(BatchNormalization())\n",
    "    model.add(LeakyReLU(alpha=0.2))\n",
    "    \n",
    "    # Adding a 1D max pooling layer\n",
    "    model.add(MaxPooling1D(pool_size=1, padding='same')) # max pooling layer to downsample the input representation\n",
    "\n",
    "    # Adding a Bidirectional LSTM layer\n",
    "    model.add(Bidirectional(LSTM(units=50, return_sequences=True))) # Bidirectional layer to learn from the input sequence in both forward and backward directions\n",
    "    model.add(Dropout(rate=0.1))\n",
    "\n",
    "    # Adding a second LSTM layer\n",
    "    model.add(LSTM(units=50, return_sequences=False))\n",
    "    \n",
    "    # Adding a Dense layer with 1 unit for the output\n",
    "    model.add(Dense(units=1))  # Output layer\n",
    "\n",
    "    # Displaying the model summary\n",
    "    model.summary()\n",
    "\n",
    "    # Compiling the model with mean squared error loss and the Adam optimizer\n",
    "    model.compile(loss='mean_squared_error', optimizer='adam')\n",
    "\n",
    "    return model"
   ]
  },
  {
   "cell_type": "code",
   "execution_count": 15,
   "metadata": {},
   "outputs": [
    {
     "data": {
      "text/html": [
       "<pre style=\"white-space:pre;overflow-x:auto;line-height:normal;font-family:Menlo,'DejaVu Sans Mono',consolas,'Courier New',monospace\"><span style=\"font-weight: bold\">Model: \"sequential\"</span>\n",
       "</pre>\n"
      ],
      "text/plain": [
       "\u001b[1mModel: \"sequential\"\u001b[0m\n"
      ]
     },
     "metadata": {},
     "output_type": "display_data"
    },
    {
     "data": {
      "text/html": [
       "<pre style=\"white-space:pre;overflow-x:auto;line-height:normal;font-family:Menlo,'DejaVu Sans Mono',consolas,'Courier New',monospace\">┏━━━━━━━━━━━━━━━━━━━━━━━━━━━━━━━━━┳━━━━━━━━━━━━━━━━━━━━━━━━┳━━━━━━━━━━━━━━━┓\n",
       "┃<span style=\"font-weight: bold\"> Layer (type)                    </span>┃<span style=\"font-weight: bold\"> Output Shape           </span>┃<span style=\"font-weight: bold\">       Param # </span>┃\n",
       "┡━━━━━━━━━━━━━━━━━━━━━━━━━━━━━━━━━╇━━━━━━━━━━━━━━━━━━━━━━━━╇━━━━━━━━━━━━━━━┩\n",
       "│ conv1d (<span style=\"color: #0087ff; text-decoration-color: #0087ff\">Conv1D</span>)                 │ (<span style=\"color: #00d7ff; text-decoration-color: #00d7ff\">None</span>, <span style=\"color: #00af00; text-decoration-color: #00af00\">24</span>, <span style=\"color: #00af00; text-decoration-color: #00af00\">64</span>)         │         <span style=\"color: #00af00; text-decoration-color: #00af00\">1,024</span> │\n",
       "├─────────────────────────────────┼────────────────────────┼───────────────┤\n",
       "│ batch_normalization             │ (<span style=\"color: #00d7ff; text-decoration-color: #00d7ff\">None</span>, <span style=\"color: #00af00; text-decoration-color: #00af00\">24</span>, <span style=\"color: #00af00; text-decoration-color: #00af00\">64</span>)         │           <span style=\"color: #00af00; text-decoration-color: #00af00\">256</span> │\n",
       "│ (<span style=\"color: #0087ff; text-decoration-color: #0087ff\">BatchNormalization</span>)            │                        │               │\n",
       "├─────────────────────────────────┼────────────────────────┼───────────────┤\n",
       "│ leaky_re_lu (<span style=\"color: #0087ff; text-decoration-color: #0087ff\">LeakyReLU</span>)         │ (<span style=\"color: #00d7ff; text-decoration-color: #00d7ff\">None</span>, <span style=\"color: #00af00; text-decoration-color: #00af00\">24</span>, <span style=\"color: #00af00; text-decoration-color: #00af00\">64</span>)         │             <span style=\"color: #00af00; text-decoration-color: #00af00\">0</span> │\n",
       "├─────────────────────────────────┼────────────────────────┼───────────────┤\n",
       "│ conv1d_1 (<span style=\"color: #0087ff; text-decoration-color: #0087ff\">Conv1D</span>)               │ (<span style=\"color: #00d7ff; text-decoration-color: #00d7ff\">None</span>, <span style=\"color: #00af00; text-decoration-color: #00af00\">24</span>, <span style=\"color: #00af00; text-decoration-color: #00af00\">32</span>)         │         <span style=\"color: #00af00; text-decoration-color: #00af00\">2,080</span> │\n",
       "├─────────────────────────────────┼────────────────────────┼───────────────┤\n",
       "│ batch_normalization_1           │ (<span style=\"color: #00d7ff; text-decoration-color: #00d7ff\">None</span>, <span style=\"color: #00af00; text-decoration-color: #00af00\">24</span>, <span style=\"color: #00af00; text-decoration-color: #00af00\">32</span>)         │           <span style=\"color: #00af00; text-decoration-color: #00af00\">128</span> │\n",
       "│ (<span style=\"color: #0087ff; text-decoration-color: #0087ff\">BatchNormalization</span>)            │                        │               │\n",
       "├─────────────────────────────────┼────────────────────────┼───────────────┤\n",
       "│ leaky_re_lu_1 (<span style=\"color: #0087ff; text-decoration-color: #0087ff\">LeakyReLU</span>)       │ (<span style=\"color: #00d7ff; text-decoration-color: #00d7ff\">None</span>, <span style=\"color: #00af00; text-decoration-color: #00af00\">24</span>, <span style=\"color: #00af00; text-decoration-color: #00af00\">32</span>)         │             <span style=\"color: #00af00; text-decoration-color: #00af00\">0</span> │\n",
       "├─────────────────────────────────┼────────────────────────┼───────────────┤\n",
       "│ conv1d_2 (<span style=\"color: #0087ff; text-decoration-color: #0087ff\">Conv1D</span>)               │ (<span style=\"color: #00d7ff; text-decoration-color: #00d7ff\">None</span>, <span style=\"color: #00af00; text-decoration-color: #00af00\">24</span>, <span style=\"color: #00af00; text-decoration-color: #00af00\">16</span>)         │           <span style=\"color: #00af00; text-decoration-color: #00af00\">528</span> │\n",
       "├─────────────────────────────────┼────────────────────────┼───────────────┤\n",
       "│ batch_normalization_2           │ (<span style=\"color: #00d7ff; text-decoration-color: #00d7ff\">None</span>, <span style=\"color: #00af00; text-decoration-color: #00af00\">24</span>, <span style=\"color: #00af00; text-decoration-color: #00af00\">16</span>)         │            <span style=\"color: #00af00; text-decoration-color: #00af00\">64</span> │\n",
       "│ (<span style=\"color: #0087ff; text-decoration-color: #0087ff\">BatchNormalization</span>)            │                        │               │\n",
       "├─────────────────────────────────┼────────────────────────┼───────────────┤\n",
       "│ leaky_re_lu_2 (<span style=\"color: #0087ff; text-decoration-color: #0087ff\">LeakyReLU</span>)       │ (<span style=\"color: #00d7ff; text-decoration-color: #00d7ff\">None</span>, <span style=\"color: #00af00; text-decoration-color: #00af00\">24</span>, <span style=\"color: #00af00; text-decoration-color: #00af00\">16</span>)         │             <span style=\"color: #00af00; text-decoration-color: #00af00\">0</span> │\n",
       "├─────────────────────────────────┼────────────────────────┼───────────────┤\n",
       "│ max_pooling1d (<span style=\"color: #0087ff; text-decoration-color: #0087ff\">MaxPooling1D</span>)    │ (<span style=\"color: #00d7ff; text-decoration-color: #00d7ff\">None</span>, <span style=\"color: #00af00; text-decoration-color: #00af00\">24</span>, <span style=\"color: #00af00; text-decoration-color: #00af00\">16</span>)         │             <span style=\"color: #00af00; text-decoration-color: #00af00\">0</span> │\n",
       "├─────────────────────────────────┼────────────────────────┼───────────────┤\n",
       "│ bidirectional (<span style=\"color: #0087ff; text-decoration-color: #0087ff\">Bidirectional</span>)   │ (<span style=\"color: #00d7ff; text-decoration-color: #00d7ff\">None</span>, <span style=\"color: #00af00; text-decoration-color: #00af00\">24</span>, <span style=\"color: #00af00; text-decoration-color: #00af00\">100</span>)        │        <span style=\"color: #00af00; text-decoration-color: #00af00\">26,800</span> │\n",
       "├─────────────────────────────────┼────────────────────────┼───────────────┤\n",
       "│ dropout (<span style=\"color: #0087ff; text-decoration-color: #0087ff\">Dropout</span>)               │ (<span style=\"color: #00d7ff; text-decoration-color: #00d7ff\">None</span>, <span style=\"color: #00af00; text-decoration-color: #00af00\">24</span>, <span style=\"color: #00af00; text-decoration-color: #00af00\">100</span>)        │             <span style=\"color: #00af00; text-decoration-color: #00af00\">0</span> │\n",
       "├─────────────────────────────────┼────────────────────────┼───────────────┤\n",
       "│ lstm_1 (<span style=\"color: #0087ff; text-decoration-color: #0087ff\">LSTM</span>)                   │ (<span style=\"color: #00d7ff; text-decoration-color: #00d7ff\">None</span>, <span style=\"color: #00af00; text-decoration-color: #00af00\">50</span>)             │        <span style=\"color: #00af00; text-decoration-color: #00af00\">30,200</span> │\n",
       "├─────────────────────────────────┼────────────────────────┼───────────────┤\n",
       "│ dense (<span style=\"color: #0087ff; text-decoration-color: #0087ff\">Dense</span>)                   │ (<span style=\"color: #00d7ff; text-decoration-color: #00d7ff\">None</span>, <span style=\"color: #00af00; text-decoration-color: #00af00\">1</span>)              │            <span style=\"color: #00af00; text-decoration-color: #00af00\">51</span> │\n",
       "└─────────────────────────────────┴────────────────────────┴───────────────┘\n",
       "</pre>\n"
      ],
      "text/plain": [
       "┏━━━━━━━━━━━━━━━━━━━━━━━━━━━━━━━━━┳━━━━━━━━━━━━━━━━━━━━━━━━┳━━━━━━━━━━━━━━━┓\n",
       "┃\u001b[1m \u001b[0m\u001b[1mLayer (type)                   \u001b[0m\u001b[1m \u001b[0m┃\u001b[1m \u001b[0m\u001b[1mOutput Shape          \u001b[0m\u001b[1m \u001b[0m┃\u001b[1m \u001b[0m\u001b[1m      Param #\u001b[0m\u001b[1m \u001b[0m┃\n",
       "┡━━━━━━━━━━━━━━━━━━━━━━━━━━━━━━━━━╇━━━━━━━━━━━━━━━━━━━━━━━━╇━━━━━━━━━━━━━━━┩\n",
       "│ conv1d (\u001b[38;5;33mConv1D\u001b[0m)                 │ (\u001b[38;5;45mNone\u001b[0m, \u001b[38;5;34m24\u001b[0m, \u001b[38;5;34m64\u001b[0m)         │         \u001b[38;5;34m1,024\u001b[0m │\n",
       "├─────────────────────────────────┼────────────────────────┼───────────────┤\n",
       "│ batch_normalization             │ (\u001b[38;5;45mNone\u001b[0m, \u001b[38;5;34m24\u001b[0m, \u001b[38;5;34m64\u001b[0m)         │           \u001b[38;5;34m256\u001b[0m │\n",
       "│ (\u001b[38;5;33mBatchNormalization\u001b[0m)            │                        │               │\n",
       "├─────────────────────────────────┼────────────────────────┼───────────────┤\n",
       "│ leaky_re_lu (\u001b[38;5;33mLeakyReLU\u001b[0m)         │ (\u001b[38;5;45mNone\u001b[0m, \u001b[38;5;34m24\u001b[0m, \u001b[38;5;34m64\u001b[0m)         │             \u001b[38;5;34m0\u001b[0m │\n",
       "├─────────────────────────────────┼────────────────────────┼───────────────┤\n",
       "│ conv1d_1 (\u001b[38;5;33mConv1D\u001b[0m)               │ (\u001b[38;5;45mNone\u001b[0m, \u001b[38;5;34m24\u001b[0m, \u001b[38;5;34m32\u001b[0m)         │         \u001b[38;5;34m2,080\u001b[0m │\n",
       "├─────────────────────────────────┼────────────────────────┼───────────────┤\n",
       "│ batch_normalization_1           │ (\u001b[38;5;45mNone\u001b[0m, \u001b[38;5;34m24\u001b[0m, \u001b[38;5;34m32\u001b[0m)         │           \u001b[38;5;34m128\u001b[0m │\n",
       "│ (\u001b[38;5;33mBatchNormalization\u001b[0m)            │                        │               │\n",
       "├─────────────────────────────────┼────────────────────────┼───────────────┤\n",
       "│ leaky_re_lu_1 (\u001b[38;5;33mLeakyReLU\u001b[0m)       │ (\u001b[38;5;45mNone\u001b[0m, \u001b[38;5;34m24\u001b[0m, \u001b[38;5;34m32\u001b[0m)         │             \u001b[38;5;34m0\u001b[0m │\n",
       "├─────────────────────────────────┼────────────────────────┼───────────────┤\n",
       "│ conv1d_2 (\u001b[38;5;33mConv1D\u001b[0m)               │ (\u001b[38;5;45mNone\u001b[0m, \u001b[38;5;34m24\u001b[0m, \u001b[38;5;34m16\u001b[0m)         │           \u001b[38;5;34m528\u001b[0m │\n",
       "├─────────────────────────────────┼────────────────────────┼───────────────┤\n",
       "│ batch_normalization_2           │ (\u001b[38;5;45mNone\u001b[0m, \u001b[38;5;34m24\u001b[0m, \u001b[38;5;34m16\u001b[0m)         │            \u001b[38;5;34m64\u001b[0m │\n",
       "│ (\u001b[38;5;33mBatchNormalization\u001b[0m)            │                        │               │\n",
       "├─────────────────────────────────┼────────────────────────┼───────────────┤\n",
       "│ leaky_re_lu_2 (\u001b[38;5;33mLeakyReLU\u001b[0m)       │ (\u001b[38;5;45mNone\u001b[0m, \u001b[38;5;34m24\u001b[0m, \u001b[38;5;34m16\u001b[0m)         │             \u001b[38;5;34m0\u001b[0m │\n",
       "├─────────────────────────────────┼────────────────────────┼───────────────┤\n",
       "│ max_pooling1d (\u001b[38;5;33mMaxPooling1D\u001b[0m)    │ (\u001b[38;5;45mNone\u001b[0m, \u001b[38;5;34m24\u001b[0m, \u001b[38;5;34m16\u001b[0m)         │             \u001b[38;5;34m0\u001b[0m │\n",
       "├─────────────────────────────────┼────────────────────────┼───────────────┤\n",
       "│ bidirectional (\u001b[38;5;33mBidirectional\u001b[0m)   │ (\u001b[38;5;45mNone\u001b[0m, \u001b[38;5;34m24\u001b[0m, \u001b[38;5;34m100\u001b[0m)        │        \u001b[38;5;34m26,800\u001b[0m │\n",
       "├─────────────────────────────────┼────────────────────────┼───────────────┤\n",
       "│ dropout (\u001b[38;5;33mDropout\u001b[0m)               │ (\u001b[38;5;45mNone\u001b[0m, \u001b[38;5;34m24\u001b[0m, \u001b[38;5;34m100\u001b[0m)        │             \u001b[38;5;34m0\u001b[0m │\n",
       "├─────────────────────────────────┼────────────────────────┼───────────────┤\n",
       "│ lstm_1 (\u001b[38;5;33mLSTM\u001b[0m)                   │ (\u001b[38;5;45mNone\u001b[0m, \u001b[38;5;34m50\u001b[0m)             │        \u001b[38;5;34m30,200\u001b[0m │\n",
       "├─────────────────────────────────┼────────────────────────┼───────────────┤\n",
       "│ dense (\u001b[38;5;33mDense\u001b[0m)                   │ (\u001b[38;5;45mNone\u001b[0m, \u001b[38;5;34m1\u001b[0m)              │            \u001b[38;5;34m51\u001b[0m │\n",
       "└─────────────────────────────────┴────────────────────────┴───────────────┘\n"
      ]
     },
     "metadata": {},
     "output_type": "display_data"
    },
    {
     "data": {
      "text/html": [
       "<pre style=\"white-space:pre;overflow-x:auto;line-height:normal;font-family:Menlo,'DejaVu Sans Mono',consolas,'Courier New',monospace\"><span style=\"font-weight: bold\"> Total params: </span><span style=\"color: #00af00; text-decoration-color: #00af00\">61,131</span> (238.79 KB)\n",
       "</pre>\n"
      ],
      "text/plain": [
       "\u001b[1m Total params: \u001b[0m\u001b[38;5;34m61,131\u001b[0m (238.79 KB)\n"
      ]
     },
     "metadata": {},
     "output_type": "display_data"
    },
    {
     "data": {
      "text/html": [
       "<pre style=\"white-space:pre;overflow-x:auto;line-height:normal;font-family:Menlo,'DejaVu Sans Mono',consolas,'Courier New',monospace\"><span style=\"font-weight: bold\"> Trainable params: </span><span style=\"color: #00af00; text-decoration-color: #00af00\">60,907</span> (237.92 KB)\n",
       "</pre>\n"
      ],
      "text/plain": [
       "\u001b[1m Trainable params: \u001b[0m\u001b[38;5;34m60,907\u001b[0m (237.92 KB)\n"
      ]
     },
     "metadata": {},
     "output_type": "display_data"
    },
    {
     "data": {
      "text/html": [
       "<pre style=\"white-space:pre;overflow-x:auto;line-height:normal;font-family:Menlo,'DejaVu Sans Mono',consolas,'Courier New',monospace\"><span style=\"font-weight: bold\"> Non-trainable params: </span><span style=\"color: #00af00; text-decoration-color: #00af00\">224</span> (896.00 B)\n",
       "</pre>\n"
      ],
      "text/plain": [
       "\u001b[1m Non-trainable params: \u001b[0m\u001b[38;5;34m224\u001b[0m (896.00 B)\n"
      ]
     },
     "metadata": {},
     "output_type": "display_data"
    }
   ],
   "source": [
    "# define the input dimensions for thje model based on the shape of the training data\n",
    "input_dim = (X_train.shape[1], X_train.shape[2]) # sequence_length, num_features\n",
    "model = build_model(input_dim)  # the shape of the input data in each layer"
   ]
  },
  {
   "cell_type": "markdown",
   "metadata": {},
   "source": [
    "### <span style=\"color:#2656a3;\">💪 Model Training</span>"
   ]
  },
  {
   "cell_type": "code",
   "execution_count": 16,
   "metadata": {},
   "outputs": [
    {
     "name": "stdout",
     "output_type": "stream",
     "text": [
      "Epoch 1/15\n",
      "\u001b[1m963/963\u001b[0m \u001b[32m━━━━━━━━━━━━━━━━━━━━\u001b[0m\u001b[37m\u001b[0m \u001b[1m20s\u001b[0m 18ms/step - loss: 0.0075 - val_loss: 0.0025\n",
      "Epoch 2/15\n",
      "\u001b[1m963/963\u001b[0m \u001b[32m━━━━━━━━━━━━━━━━━━━━\u001b[0m\u001b[37m\u001b[0m \u001b[1m18s\u001b[0m 18ms/step - loss: 0.0023 - val_loss: 0.0012\n",
      "Epoch 3/15\n",
      "\u001b[1m963/963\u001b[0m \u001b[32m━━━━━━━━━━━━━━━━━━━━\u001b[0m\u001b[37m\u001b[0m \u001b[1m18s\u001b[0m 18ms/step - loss: 0.0021 - val_loss: 0.0017\n",
      "Epoch 4/15\n",
      "\u001b[1m963/963\u001b[0m \u001b[32m━━━━━━━━━━━━━━━━━━━━\u001b[0m\u001b[37m\u001b[0m \u001b[1m18s\u001b[0m 19ms/step - loss: 0.0018 - val_loss: 0.0018\n",
      "Epoch 5/15\n",
      "\u001b[1m963/963\u001b[0m \u001b[32m━━━━━━━━━━━━━━━━━━━━\u001b[0m\u001b[37m\u001b[0m \u001b[1m19s\u001b[0m 19ms/step - loss: 0.0017 - val_loss: 0.0027\n",
      "Epoch 6/15\n",
      "\u001b[1m963/963\u001b[0m \u001b[32m━━━━━━━━━━━━━━━━━━━━\u001b[0m\u001b[37m\u001b[0m \u001b[1m18s\u001b[0m 18ms/step - loss: 0.0017 - val_loss: 8.8559e-04\n",
      "Epoch 7/15\n",
      "\u001b[1m963/963\u001b[0m \u001b[32m━━━━━━━━━━━━━━━━━━━━\u001b[0m\u001b[37m\u001b[0m \u001b[1m17s\u001b[0m 18ms/step - loss: 0.0014 - val_loss: 0.0013\n",
      "Epoch 8/15\n",
      "\u001b[1m963/963\u001b[0m \u001b[32m━━━━━━━━━━━━━━━━━━━━\u001b[0m\u001b[37m\u001b[0m \u001b[1m18s\u001b[0m 19ms/step - loss: 0.0012 - val_loss: 0.0020\n",
      "Epoch 9/15\n",
      "\u001b[1m963/963\u001b[0m \u001b[32m━━━━━━━━━━━━━━━━━━━━\u001b[0m\u001b[37m\u001b[0m \u001b[1m17s\u001b[0m 18ms/step - loss: 0.0012 - val_loss: 0.0021\n",
      "Epoch 10/15\n",
      "\u001b[1m963/963\u001b[0m \u001b[32m━━━━━━━━━━━━━━━━━━━━\u001b[0m\u001b[37m\u001b[0m \u001b[1m17s\u001b[0m 18ms/step - loss: 0.0011 - val_loss: 0.0029\n",
      "Epoch 11/15\n",
      "\u001b[1m963/963\u001b[0m \u001b[32m━━━━━━━━━━━━━━━━━━━━\u001b[0m\u001b[37m\u001b[0m \u001b[1m17s\u001b[0m 18ms/step - loss: 0.0010 - val_loss: 0.0030\n",
      "Epoch 12/15\n",
      "\u001b[1m963/963\u001b[0m \u001b[32m━━━━━━━━━━━━━━━━━━━━\u001b[0m\u001b[37m\u001b[0m \u001b[1m17s\u001b[0m 18ms/step - loss: 9.5532e-04 - val_loss: 0.0046\n",
      "Epoch 13/15\n",
      "\u001b[1m963/963\u001b[0m \u001b[32m━━━━━━━━━━━━━━━━━━━━\u001b[0m\u001b[37m\u001b[0m \u001b[1m18s\u001b[0m 18ms/step - loss: 9.7930e-04 - val_loss: 0.0014\n",
      "Epoch 14/15\n",
      "\u001b[1m963/963\u001b[0m \u001b[32m━━━━━━━━━━━━━━━━━━━━\u001b[0m\u001b[37m\u001b[0m \u001b[1m17s\u001b[0m 18ms/step - loss: 9.1190e-04 - val_loss: 0.0014\n",
      "Epoch 15/15\n",
      "\u001b[1m963/963\u001b[0m \u001b[32m━━━━━━━━━━━━━━━━━━━━\u001b[0m\u001b[37m\u001b[0m \u001b[1m18s\u001b[0m 19ms/step - loss: 7.8091e-04 - val_loss: 0.0041\n"
     ]
    }
   ],
   "source": [
    "# History for the loss function and the validation loss function\n",
    "history = model.fit(X_train, y_train, epochs=15, batch_size=32, validation_data=(X_test, y_test)) "
   ]
  },
  {
   "cell_type": "code",
   "execution_count": 17,
   "metadata": {},
   "outputs": [
    {
     "name": "stdout",
     "output_type": "stream",
     "text": [
      "dict_keys(['loss', 'val_loss'])\n"
     ]
    }
   ],
   "source": [
    "# Extracting the training history dictionary from the model training\n",
    "history_dict = history.history\n",
    "\n",
    "# Displaying the keys in the history dictionary\n",
    "print(history_dict.keys())"
   ]
  },
  {
   "cell_type": "code",
   "execution_count": 18,
   "metadata": {},
   "outputs": [
    {
     "data": {
      "image/png": "[encoded data removed]",
      "text/plain": [
       "<Figure size 1500x700 with 1 Axes>"
      ]
     },
     "metadata": {},
     "output_type": "display_data"
    }
   ],
   "source": [
    "# Extracting training and validation loss values from the history dictionary\n",
    "loss_values = history_dict['loss']\n",
    "val_loss_values = history_dict['val_loss']\n",
    "\n",
    "# Creating separate variables for loss values (50 epochs)\n",
    "loss_values50 = loss_values\n",
    "val_loss_values50 = val_loss_values\n",
    "\n",
    "# Generating a plot for training and validation loss over epochs\n",
    "epochs = range(1, len(loss_values50) + 1)\n",
    "plt.plot(epochs, loss_values50, 'b', color='blue', label='Training loss')\n",
    "plt.plot(epochs, val_loss_values50, 'b', color='red', label='Validation loss')\n",
    "\n",
    "# Setting plot details and labels\n",
    "plt.rc('font', size=18)\n",
    "\n",
    "# Adding labels and title\n",
    "plt.title('Training and validation loss')\n",
    "plt.xlabel('Epochs')\n",
    "plt.ylabel('Loss')\n",
    "plt.xticks(epochs)\n",
    "\n",
    "# Adjusting the size of the plot\n",
    "fig = plt.gcf()\n",
    "fig.set_size_inches(15, 7)\n",
    "\n",
    "# Add a legend and display the plot\n",
    "plt.legend()\n",
    "plt.show()"
   ]
  },
  {
   "cell_type": "code",
   "execution_count": 19,
   "metadata": {},
   "outputs": [
    {
     "name": "stdout",
     "output_type": "stream",
     "text": [
      "\u001b[1m241/241\u001b[0m \u001b[32m━━━━━━━━━━━━━━━━━━━━\u001b[0m\u001b[37m\u001b[0m \u001b[1m1s\u001b[0m 5ms/step\n"
     ]
    }
   ],
   "source": [
    "# Predict on the test set\n",
    "y_pred = model.predict(X_test)\n",
    "\n",
    "# Inverse transform the predictions and the true values to their original scale\n",
    "y_pred_inverse = target_scaler.inverse_transform(y_pred)\n",
    "y_test_inverse = target_scaler.inverse_transform(y_test)"
   ]
  },
  {
   "cell_type": "markdown",
   "metadata": {},
   "source": [
    "### <span style=\"color:#2656a3;\">🤖 Making the predictions</span>\n",
    "\n",
    "To provide a non-technical performance overview, we extract the predicted prices and actual prices of the last five values for a quick performance overview."
   ]
  },
  {
   "cell_type": "code",
   "execution_count": 20,
   "metadata": {},
   "outputs": [],
   "source": [
    "predictions_df = df.head(X.shape[0])"
   ]
  },
  {
   "cell_type": "code",
   "execution_count": 21,
   "metadata": {},
   "outputs": [
    {
     "name": "stdout",
     "output_type": "stream",
     "text": [
      "\u001b[1m1204/1204\u001b[0m \u001b[32m━━━━━━━━━━━━━━━━━━━━\u001b[0m\u001b[37m\u001b[0m \u001b[1m5s\u001b[0m 4ms/step\n"
     ]
    },
    {
     "data": {
      "text/html": [
       "<div>\n",
       "<style scoped>\n",
       "    .dataframe tbody tr th:only-of-type {\n",
       "        vertical-align: middle;\n",
       "    }\n",
       "\n",
       "    .dataframe tbody tr th {\n",
       "        vertical-align: top;\n",
       "    }\n",
       "\n",
       "    .dataframe thead th {\n",
       "        text-align: right;\n",
       "    }\n",
       "</style>\n",
       "<table border=\"1\" class=\"dataframe\">\n",
       "  <thead>\n",
       "    <tr style=\"text-align: right;\">\n",
       "      <th></th>\n",
       "      <th>datetime</th>\n",
       "      <th>dk1_spotpricedkk_kwh</th>\n",
       "      <th>predictions</th>\n",
       "    </tr>\n",
       "  </thead>\n",
       "  <tbody>\n",
       "    <tr>\n",
       "      <th>38497</th>\n",
       "      <td>2024-05-23 06:00:00</td>\n",
       "      <td>0.80570</td>\n",
       "      <td>0.737796</td>\n",
       "    </tr>\n",
       "    <tr>\n",
       "      <th>38498</th>\n",
       "      <td>2024-05-23 07:00:00</td>\n",
       "      <td>0.88047</td>\n",
       "      <td>0.725988</td>\n",
       "    </tr>\n",
       "    <tr>\n",
       "      <th>38499</th>\n",
       "      <td>2024-05-23 08:00:00</td>\n",
       "      <td>0.73004</td>\n",
       "      <td>0.698041</td>\n",
       "    </tr>\n",
       "    <tr>\n",
       "      <th>38500</th>\n",
       "      <td>2024-05-23 09:00:00</td>\n",
       "      <td>0.56447</td>\n",
       "      <td>0.676681</td>\n",
       "    </tr>\n",
       "    <tr>\n",
       "      <th>38501</th>\n",
       "      <td>2024-05-23 10:00:00</td>\n",
       "      <td>0.55880</td>\n",
       "      <td>0.631493</td>\n",
       "    </tr>\n",
       "  </tbody>\n",
       "</table>\n",
       "</div>"
      ],
      "text/plain": [
       "                 datetime  dk1_spotpricedkk_kwh  predictions\n",
       "38497 2024-05-23 06:00:00               0.80570     0.737796\n",
       "38498 2024-05-23 07:00:00               0.88047     0.725988\n",
       "38499 2024-05-23 08:00:00               0.73004     0.698041\n",
       "38500 2024-05-23 09:00:00               0.56447     0.676681\n",
       "38501 2024-05-23 10:00:00               0.55880     0.631493"
      ]
     },
     "execution_count": 21,
     "metadata": {},
     "output_type": "execute_result"
    }
   ],
   "source": [
    "# Assign the predictions info the dataframe\n",
    "predictions_df['predictions'] = target_scaler.inverse_transform(model.predict(X))\n",
    "\n",
    "# Show the last 5 rows of the dataframe with the predictions and the actual values\n",
    "predictions_df[['datetime', 'dk1_spotpricedkk_kwh', 'predictions']].tail()"
   ]
  },
  {
   "cell_type": "code",
   "execution_count": 22,
   "metadata": {},
   "outputs": [
    {
     "data": {
      "image/png": "[encoded data removed]",
      "text/plain": [
       "<Figure size 1200x600 with 1 Axes>"
      ]
     },
     "metadata": {},
     "output_type": "display_data"
    }
   ],
   "source": [
    "# Plot the predicted and actual values\n",
    "plt.figure(figsize=(12, 6))\n",
    "plt.plot(predictions_df['datetime'], predictions_df['dk1_spotpricedkk_kwh'], label='actual', alpha=0.7)\n",
    "plt.plot(predictions_df['datetime'], predictions_df['predictions'], label='predicted', alpha=0.7)\n",
    "\n",
    "# Adding labels and title\n",
    "plt.title('Actual vs Predicted Spot Electricity Prices for area DK1')\n",
    "plt.xlabel('Datetime')\n",
    "plt.ylabel('Spot Price (DKK/kWh)')\n",
    "\n",
    "# Add a legend and display the plot\n",
    "plt.legend()\n",
    "plt.show()"
   ]
  },
  {
   "cell_type": "markdown",
   "metadata": {},
   "source": [
    "## <span style='color:#2656a3'> ⚖️ Model Validation\n",
    "\n",
    "After fitting the LSTM model, we evaluate the performance using the following validation metrics.\n",
    "\n",
    "**Validation Loss (Loss):**\n",
    "- Measures the error on a separate validation dataset that is not used during the training of the model.\n",
    "- Helps monitor the model’s performance on unseen data to ensure it generalizes well and is not just memorizing the training data.\n",
    "- Used to detect overfitting by comparing it with the training loss. If validation loss increases while training loss decreases, it indicates overfitting.\n",
    "- Guides the tuning of hyperparameters and can be used to implement early stopping to prevent overfitting.\n",
    "- Lower validation loss values indicate better model performance on unseen data.\n",
    "\n",
    "**Mean Squared Error (MSE):**\n",
    "- Measures the average squared difference between the actual and predicted values in a regression problem. \n",
    "- It squares the differences between predicted and actual values to penalize larger errors more heavily.\n",
    "- Lower MSE values indicate better model performance.\n",
    "\n",
    "**Mean Absolute Error (MAE):**\n",
    "- Measures the average absolute difference between the actual and predicted values.\n",
    "- MAE is less sensitive to outliers compared to MSE because it does not square the errors.\n",
    "- Like MSE and RMSE, lower MAE values indicate better model performance.\n",
    "\n",
    "**Root Mean Squared Error (RMSE):**\n",
    "- RMSE is the square root of the average squared difference between the actual values and the predicted values.\n",
    "- RMSE is in the same units as the original data, making it more interpretable compared to MSE. RMSE penalizes larger errors more than MAE because it involves taking the square root of the average squared differences. \n",
    "- Lower RMSE values indicate better model performance,\n",
    "\n",
    "MSE emphasizes larger errors more due to squaring, MAE gives equal weight to all errors, and RMSE combines the benefits of both MSE and MAE while maintaining interpretability."
   ]
  },
  {
   "cell_type": "code",
   "execution_count": 23,
   "metadata": {},
   "outputs": [
    {
     "name": "stdout",
     "output_type": "stream",
     "text": [
      "\u001b[1m241/241\u001b[0m \u001b[32m━━━━━━━━━━━━━━━━━━━━\u001b[0m\u001b[37m\u001b[0m \u001b[1m1s\u001b[0m 4ms/step - loss: 0.0038\n",
      "⛳️ Loss: 0.004056328907608986\n",
      "⛳️ MSE: 0.3860502597789606\n",
      "⛳️ MAE: 0.49324720660251115\n",
      "⛳️ RMSE: 0.6213294293520633\n"
     ]
    }
   ],
   "source": [
    "from sklearn.metrics import mean_squared_error, mean_absolute_error\n",
    "\n",
    "# Calculate performance metrics\n",
    "\n",
    "# Calculate the loss\n",
    "loss = model.evaluate(X_test, y_test)\n",
    "print(f'⛳️ Loss: {loss}')\n",
    "\n",
    "# Calculate Mean Squared Error (MSE) using sklearn\n",
    "mse = mean_squared_error(y_test_inverse, y_pred_inverse)\n",
    "print(\"⛳️ MSE:\", mse)\n",
    "\n",
    "# Calculate Mean Absolute Error (MAE) using sklearn\n",
    "mae = mean_absolute_error(y_test_inverse, y_pred_inverse)\n",
    "print(\"⛳️ MAE:\", mae)\n",
    "\n",
    "# Calculate Root Mean Squared Error (RMSE) using sklearn\n",
    "rmse = mean_squared_error(y_test_inverse, y_pred_inverse)\n",
    "print(\"⛳️ RMSE:\", np.sqrt(rmse))"
   ]
  },
  {
   "cell_type": "markdown",
   "metadata": {},
   "source": [
    "In this case, A validation `loss` on 0.0019, suggests that the is not overfitted and performance good on unseen data. `MSE` is 0.181, which suggests that on average, the squared difference between the actual and predicted values is relatively low. A `MAE` of 0.350 suggests that, on average, the model's predictions are off by approximately 0.350 units from the actual values. Similar to MSE, a lower MAE indicates better accuracy of the model. An `RMSE` value of 0.652 suggests that, on average, the model's predictions are reasonably close to the actual values.\n",
    "\n",
    "These evaluation measures collectively provide insights into the performance of the model. They suggest that the model's predictions are relatively close to the actual values, as indicated by the low values of Loss, MSE, MAE, and RMSE."
   ]
  },
  {
   "cell_type": "code",
   "execution_count": 24,
   "metadata": {},
   "outputs": [
    {
     "name": "stdout",
     "output_type": "stream",
     "text": [
      "\u001b[1m241/241\u001b[0m \u001b[32m━━━━━━━━━━━━━━━━━━━━\u001b[0m\u001b[37m\u001b[0m \u001b[1m1s\u001b[0m 5ms/step\n",
      "\u001b[1m241/241\u001b[0m \u001b[32m━━━━━━━━━━━━━━━━━━━━\u001b[0m\u001b[37m\u001b[0m \u001b[1m1s\u001b[0m 4ms/step\n",
      "\u001b[1m241/241\u001b[0m \u001b[32m━━━━━━━━━━━━━━━━━━━━\u001b[0m\u001b[37m\u001b[0m \u001b[1m1s\u001b[0m 4ms/step\n",
      "\u001b[1m241/241\u001b[0m \u001b[32m━━━━━━━━━━━━━━━━━━━━\u001b[0m\u001b[37m\u001b[0m \u001b[1m1s\u001b[0m 5ms/step\n",
      "\u001b[1m241/241\u001b[0m \u001b[32m━━━━━━━━━━━━━━━━━━━━\u001b[0m\u001b[37m\u001b[0m \u001b[1m1s\u001b[0m 4ms/step\n",
      "\u001b[1m241/241\u001b[0m \u001b[32m━━━━━━━━━━━━━━━━━━━━\u001b[0m\u001b[37m\u001b[0m \u001b[1m1s\u001b[0m 4ms/step\n",
      "\u001b[1m241/241\u001b[0m \u001b[32m━━━━━━━━━━━━━━━━━━━━\u001b[0m\u001b[37m\u001b[0m \u001b[1m1s\u001b[0m 4ms/step\n",
      "\u001b[1m241/241\u001b[0m \u001b[32m━━━━━━━━━━━━━━━━━━━━\u001b[0m\u001b[37m\u001b[0m \u001b[1m1s\u001b[0m 5ms/step\n",
      "\u001b[1m241/241\u001b[0m \u001b[32m━━━━━━━━━━━━━━━━━━━━\u001b[0m\u001b[37m\u001b[0m \u001b[1m1s\u001b[0m 5ms/step\n",
      "\u001b[1m241/241\u001b[0m \u001b[32m━━━━━━━━━━━━━━━━━━━━\u001b[0m\u001b[37m\u001b[0m \u001b[1m1s\u001b[0m 5ms/step\n",
      "\u001b[1m241/241\u001b[0m \u001b[32m━━━━━━━━━━━━━━━━━━━━\u001b[0m\u001b[37m\u001b[0m \u001b[1m1s\u001b[0m 4ms/step\n",
      "\u001b[1m241/241\u001b[0m \u001b[32m━━━━━━━━━━━━━━━━━━━━\u001b[0m\u001b[37m\u001b[0m \u001b[1m1s\u001b[0m 4ms/step\n",
      "\u001b[1m241/241\u001b[0m \u001b[32m━━━━━━━━━━━━━━━━━━━━\u001b[0m\u001b[37m\u001b[0m \u001b[1m1s\u001b[0m 5ms/step\n",
      "\u001b[1m241/241\u001b[0m \u001b[32m━━━━━━━━━━━━━━━━━━━━\u001b[0m\u001b[37m\u001b[0m \u001b[1m1s\u001b[0m 5ms/step\n",
      "\u001b[1m241/241\u001b[0m \u001b[32m━━━━━━━━━━━━━━━━━━━━\u001b[0m\u001b[37m\u001b[0m \u001b[1m1s\u001b[0m 4ms/step\n",
      "\u001b[1m241/241\u001b[0m \u001b[32m━━━━━━━━━━━━━━━━━━━━\u001b[0m\u001b[37m\u001b[0m \u001b[1m1s\u001b[0m 4ms/step\n"
     ]
    }
   ],
   "source": [
    "# Function to calculate permutation feature importance\n",
    "def permutation_feature_importance(model, X_val, y_val, feature_names):\n",
    "    baseline_mse = mean_squared_error(y_val, model.predict(X_val))\n",
    "    importances = []\n",
    "\n",
    "    for col in range(X_val.shape[2]):\n",
    "        X_val_permuted = np.copy(X_val)\n",
    "        np.random.shuffle(X_val_permuted[:, :, col])\n",
    "        permuted_mse = mean_squared_error(y_val, model.predict(X_val_permuted))\n",
    "        importances.append(permuted_mse - baseline_mse)\n",
    "\n",
    "    return np.array(importances), feature_names\n",
    "\n",
    "# Calculate feature importance\n",
    "importances, feature_names = permutation_feature_importance(model, X_test, y_test, features.columns)"
   ]
  },
  {
   "cell_type": "code",
   "execution_count": 25,
   "metadata": {},
   "outputs": [
    {
     "data": {
      "image/png": "[encoded data removed]",
      "text/plain": [
       "<Figure size 1000x600 with 1 Axes>"
      ]
     },
     "metadata": {},
     "output_type": "display_data"
    }
   ],
   "source": [
    "# Plot feature importance\n",
    "plt.figure(figsize=(10, 6))\n",
    "plt.barh(range(len(importances)), importances, align='center')\n",
    "\n",
    "# Adding labels and title\n",
    "plt.title('Permutation Feature Importance')\n",
    "plt.yticks(range(len(importances)), feature_names)\n",
    "plt.xlabel('Increase in MSE after Permutation')\n",
    "\n",
    "# Add a legend and display the plot\n",
    "plt.show()"
   ]
  },
  {
   "cell_type": "markdown",
   "metadata": {},
   "source": [
    "As shown in the above feature importance plot features like `year` and the generated moving averages are among the most important for predicting the dependent variable. "
   ]
  },
  {
   "cell_type": "markdown",
   "metadata": {},
   "source": [
    "## <span style='color:#2656a3'>🗄 Model Registry</span>\n",
    "\n",
    "The Model Registry in Hopsworks enable us to store the trained model. The model registry centralizes model management, enabling models to be securely accessed and governed. We can also save model metrics with the model, enabling the user to understand performance of the model on test (or unseen) data."
   ]
  },
  {
   "cell_type": "code",
   "execution_count": 26,
   "metadata": {},
   "outputs": [],
   "source": [
    "# Importing the libraries for saving the model\n",
    "from hsml.schema import Schema\n",
    "from hsml.model_schema import ModelSchema"
   ]
  },
  {
   "cell_type": "code",
   "execution_count": 27,
   "metadata": {},
   "outputs": [
    {
     "name": "stdout",
     "output_type": "stream",
     "text": [
      "Connected. Call `.close()` to terminate connection gracefully.\n"
     ]
    }
   ],
   "source": [
    "# Retrieving the Model Registry from Hopsworks\n",
    "mr = project.get_model_registry()"
   ]
  },
  {
   "cell_type": "markdown",
   "metadata": {},
   "source": [
    "### <span style=\"color:#2656a3;\">⚙️ Model Schema</span>\n",
    "A model schema defines the structure and format of the input and output data that a machine learning model expects and produces, respectively. It serves as a **blueprint** for understanding how to interact with the model in terms of input features and output predictions. In the context of the Hopsworks platform, a model schema is typically defined using the Schema class, which specifies the features expected in the input data and the target variable in the output data. This schema helps ensure consistency and compatibility between the model and the data it operates on."
   ]
  },
  {
   "cell_type": "code",
   "execution_count": 31,
   "metadata": {},
   "outputs": [],
   "source": [
    "# Importing the libraries for saving the model\n",
    "from hsml.schema import Schema\n",
    "from hsml.model_schema import ModelSchema"
   ]
  },
  {
   "cell_type": "code",
   "execution_count": 32,
   "metadata": {},
   "outputs": [],
   "source": [
    "# Specify the schema of the model's input and output using the features (X_train) and dependent variable (y_train)\n",
    "input_schema = Schema(X_train)\n",
    "output_schema = Schema(y_train)\n",
    "\n",
    "# Create a model schema using the input and output schemas\n",
    "model_schema = ModelSchema(input_schema, output_schema)"
   ]
  },
  {
   "cell_type": "code",
   "execution_count": 33,
   "metadata": {},
   "outputs": [
    {
     "name": "stdout",
     "output_type": "stream",
     "text": [
      "Exporting trained model to: lstm_electricity_price_model\n",
      "INFO:tensorflow:Assets written to: lstm_electricity_price_model/assets\n",
      "INFO:tensorflow:Assets written to: lstm_electricity_price_model/assets\n"
     ]
    }
   ],
   "source": [
    "# Exporting the trained model to a directory\n",
    "model_dir = \"lstm_electricity_price_model\"\n",
    "print('Exporting trained model to: {}'.format(model_dir))\n",
    "\n",
    "# Saving the model using TensorFlow's saved_model.save function\n",
    "tf.saved_model.save(model, model_dir)"
   ]
  },
  {
   "cell_type": "code",
   "execution_count": 34,
   "metadata": {},
   "outputs": [],
   "source": [
    "# Extracting loss value from the training history\n",
    "metrics = {'loss': history_dict['val_loss'][0]} \n",
    "\n",
    "# Creating a TensorFlow model in the Model Registry\n",
    "tf_model = mr.tensorflow.create_model(\n",
    "    name=\"lstm_electricity_price_model\",\n",
    "    metrics=metrics,\n",
    "    model_schema=model_schema,\n",
    "    description=\"LSTM Daily electricity price prediction model.\",\n",
    "    input_example=X_train[:1]\n",
    ")"
   ]
  },
  {
   "cell_type": "code",
   "execution_count": 35,
   "metadata": {},
   "outputs": [
    {
     "data": {
      "application/vnd.jupyter.widget-view+json": {
       "model_id": "bd00c81719b24e33b05a37b0ed8bb62e",
       "version_major": 2,
       "version_minor": 0
      },
      "text/plain": [
       "  0%|          | 0/6 [00:00<?, ?it/s]"
      ]
     },
     "metadata": {},
     "output_type": "display_data"
    },
    {
     "data": {
      "application/vnd.jupyter.widget-view+json": {
       "model_id": "eaf3f1b1b2a94530b67ebff5a75c842e",
       "version_major": 2,
       "version_minor": 0
      },
      "text/plain": [
       "Uploading: 0.000%|          | 0/56 elapsed<00:00 remaining<?"
      ]
     },
     "metadata": {},
     "output_type": "display_data"
    },
    {
     "data": {
      "application/vnd.jupyter.widget-view+json": {
       "model_id": "f072fae531be476eae01dfee6ae1a2b5",
       "version_major": 2,
       "version_minor": 0
      },
      "text/plain": [
       "Uploading: 0.000%|          | 0/476338 elapsed<00:00 remaining<?"
      ]
     },
     "metadata": {},
     "output_type": "display_data"
    },
    {
     "data": {
      "application/vnd.jupyter.widget-view+json": {
       "model_id": "4750d30d236f4481af6883d483397a25",
       "version_major": 2,
       "version_minor": 0
      },
      "text/plain": [
       "Uploading: 0.000%|          | 0/747145 elapsed<00:00 remaining<?"
      ]
     },
     "metadata": {},
     "output_type": "display_data"
    },
    {
     "data": {
      "application/vnd.jupyter.widget-view+json": {
       "model_id": "576fd81234bb4bd98108edfaeaa6d075",
       "version_major": 2,
       "version_minor": 0
      },
      "text/plain": [
       "Uploading: 0.000%|          | 0/4461 elapsed<00:00 remaining<?"
      ]
     },
     "metadata": {},
     "output_type": "display_data"
    },
    {
     "data": {
      "application/vnd.jupyter.widget-view+json": {
       "model_id": "3fe92bc2c3bd4faf8cc40aaf9fe52218",
       "version_major": 2,
       "version_minor": 0
      },
      "text/plain": [
       "Uploading: 0.000%|          | 0/4120 elapsed<00:00 remaining<?"
      ]
     },
     "metadata": {},
     "output_type": "display_data"
    },
    {
     "data": {
      "application/vnd.jupyter.widget-view+json": {
       "model_id": "1faa98f49f804f9fbbfad32152ce21c7",
       "version_major": 2,
       "version_minor": 0
      },
      "text/plain": [
       "Uploading: 0.000%|          | 0/222 elapsed<00:00 remaining<?"
      ]
     },
     "metadata": {},
     "output_type": "display_data"
    },
    {
     "name": "stdout",
     "output_type": "stream",
     "text": [
      "Model created, explore it at https://c.app.hopsworks.ai:443/p/554133/models/lstm_electricity_price_model/2\n"
     ]
    },
    {
     "data": {
      "text/plain": [
       "Model(name: 'lstm_electricity_price_model', version: 2)"
      ]
     },
     "execution_count": 35,
     "metadata": {},
     "output_type": "execute_result"
    }
   ],
   "source": [
    "# Saving the model to the specified directory\n",
    "tf_model.save(model_dir)"
   ]
  },
  {
   "cell_type": "markdown",
   "metadata": {},
   "source": [
    "## <span style=\"color:#2656a3;\">⏭️ **Next:** Part 04: Batch Inference </span>\n",
    "\n",
    "Next notebook we will use the registered model to make predictions based on the batch data."
   ]
  }
 ],
 "metadata": {
  "kernelspec": {
   "display_name": "bds-mlops",
   "language": "python",
   "name": "python3"
  },
  "language_info": {
   "codemirror_mode": {
    "name": "ipython",
    "version": 3
   },
   "file_extension": ".py",
   "mimetype": "text/x-python",
   "name": "python",
   "nbconvert_exporter": "python",
   "pygments_lexer": "ipython3",
   "version": "3.11.8"
  },
  "orig_nbformat": 4
 },
 "nbformat": 4,
 "nbformat_minor": 2
}
